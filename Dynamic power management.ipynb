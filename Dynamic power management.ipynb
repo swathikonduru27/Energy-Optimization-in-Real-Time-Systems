{
  "nbformat": 4,
  "nbformat_minor": 0,
  "metadata": {
    "colab": {
      "provenance": [],
      "collapsed_sections": [
        "ieIG_8-1-QPL"
      ]
    },
    "kernelspec": {
      "name": "python3",
      "display_name": "Python 3"
    },
    "language_info": {
      "name": "python"
    }
  },
  "cells": [
    {
      "cell_type": "code",
      "source": [
        "import pandas as pd"
      ],
      "metadata": {
        "id": "ORvkixi5-Xuo"
      },
      "execution_count": null,
      "outputs": []
    },
    {
      "cell_type": "markdown",
      "source": [
        "Here the sensor are considered to be powered by the system"
      ],
      "metadata": {
        "id": "S3FlxT1eELzJ"
      }
    },
    {
      "cell_type": "code",
      "source": [
        "# Define the power usage for each device in each state\n",
        "\n",
        "#in mW\n",
        "power_usage = {\n",
        "    \"Device 1\": {\"off\": 0, \"idle\": 2, \"active\": 50},\n",
        "    \"Device 2\": {\"off\": 0, \"idle\": 1, \"active\": 100},\n",
        "    \"Device 3\": {\"off\": 0, \"idle\": 0.001, \"active\": 2}\n",
        "}\n",
        "\n",
        "transition_times = {\n",
        "\"Device 1\": {\"off_to_idle\": 2, \"off_to_active\": 2.01, \"idle_to_active\": 0.01, \"active_to_idle\": 0.01, \"idle_to_off\": 2, \"active_to_off\": 2.01},\n",
        "\"Device 2\": {\"off_to_idle\": 0, \"off_to_active\": 0, \"idle_to_active\": 0, \"active_to_idle\": 0, \"idle_to_off\": 0, \"active_to_off\": 0},\n",
        "\"Device 3\": {\"off_to_idle\": 0, \"off_to_active\": 0, \"idle_to_active\": 0, \"active_to_idle\": 0, \"idle_to_off\": 0, \"active_to_off\": 0}\n",
        "}\n",
        "\n",
        "transition_powers = {\n",
        "\"Device 1\": {\"off_to_idle\": 2, \"off_to_active\": 2, \"idle_to_active\": 3, \"active_to_idle\": 4, \"idle_to_off\": 5, \"active_to_off\": 6},\n",
        "\"Device 2\": {\"off_to_idle\": 3, \"off_to_active\": 2, \"idle_to_active\": 4, \"active_to_idle\": 5, \"idle_to_off\": 6, \"active_to_off\": 7},\n",
        "\"Device 3\": {\"off_to_idle\": 4, \"off_to_active\": 2, \"idle_to_active\": 5, \"active_to_idle\": 6, \"idle_to_off\": 7, \"active_to_off\": 8}\n",
        "}\n",
        "\n",
        "# Define the current state for each device\n",
        "current_state = {\"Device 1\": \"off\", \"Device 2\": \"off\", \"Device 3\": \"off\"}\n",
        "\n",
        "# Define the tasks as a DataFrame\n",
        "df_tasks = pd.DataFrame(data={\n",
        "    \"name\": [\"Task 1\", \"Task 2\", \"Task 3\", \"Task 4\"],\n",
        "    \"Device 1\": [\"active\", \"idle\", \"off\", \"active\"],\n",
        "    \"Device 2\": [\"active\", \"active\", \"idle\", \"active\"],\n",
        "    \"Device 3\": [\"active\", \"idle\", \"idle\", \"off\"],\n",
        "    \"deadline\": [100, 50, 110, 70],\n",
        "    \"WCET\": [40, 45, 30, 20],\n",
        "    \"Priority\": [1, 2, 3, 4]\n",
        "})\n",
        "\n",
        "df_tasks['AET'] = .75*df_tasks['WCET']\n",
        "\n",
        "current_time = 0\n",
        "start_time = []\n",
        "end_time = []"
      ],
      "metadata": {
        "id": "8kKVJHxps-y7"
      },
      "execution_count": null,
      "outputs": []
    },
    {
      "cell_type": "markdown",
      "source": [
        "###with transition times"
      ],
      "metadata": {
        "id": "ieIG_8-1-QPL"
      }
    },
    {
      "cell_type": "code",
      "source": [
        "\n",
        "\n",
        "# Continuously monitor the power usage of each device\n",
        "while True:\n",
        "    df_tasks[\"Slack Time\"] = df_tasks[\"deadline\"] - (current_time + df_tasks[\"WCET\"])\n",
        "    df_tasks = df_tasks.sort_values(by=['Slack Time', 'Priority'], ascending=[True, False])\n",
        "    df_sch_tasks = df_tasks\n",
        "    for _, task in df_tasks.iterrows():\n",
        "        can_execute = True\n",
        "        for device in [\"Device 1\", \"Device 2\", \"Device 3\"]:\n",
        "            if task[f\"{device}\"] not in power_usage[device]:\n",
        "                can_execute = False\n",
        "                break\n",
        "        if can_execute:\n",
        "            device_active_energy = 0\n",
        "            \n",
        "            # Execute the task\n",
        "            print(f\"Executing {task['name']}...\")\n",
        "            transition = f\"{current_state[device]}to{task[f'{device}']}\"\n",
        "            for device in [\"Device 1\", \"Device 2\", \"Device 3\"]:\n",
        "                device_active_energy += power_usage[device][task[f\"{device}\"]]*task.AET\n",
        "                \n",
        "                #transition\n",
        "                device_transition_energy = 0\n",
        "                current_state_name = current_state[device]\n",
        "                next_state_name = task[f\"{device}\"]\n",
        "                if current_state_name != next_state_name:\n",
        "                    transition_key = f\"{current_state_name}_to_{next_state_name}\"\n",
        "                    transition_time = transition_times[device][transition_key]\n",
        "                    transition_power = transition_powers[device][transition_key]\n",
        "                    device_transition_energy = transition_time * transition_power\n",
        "                    device_active_energy += device_transition_energy\n",
        "\n",
        "\n",
        "                current_state[device] = task[f\"{device}\"]\n",
        "                \n",
        "            df_sch_tasks.loc[task.name,\"device_active_energy\"] = device_active_energy\n",
        "            df_sch_tasks.loc[task.name,\"device_transition_energy\"] = device_transition_energy\n",
        "            df_sch_tasks.loc[task.name,\"total_energy\"] = device_active_energy + device_transition_energy\n",
        "\n",
        "\n",
        "            start_time.append(current_time)\n",
        "            current_time += task['AET']\n",
        "            end_time.append(current_time)\n",
        "\n",
        "            df_tasks = df_tasks.drop(index=task.name)\n",
        "            if df_tasks.empty:\n",
        "                print(\"All Tasks Done!\")\n",
        "                break\n",
        "        else:\n",
        "            # Invalid state, do not execute task\n",
        "            print(f\"Skipping {task['name']}, invalid state.\")\n",
        "\n",
        "    if df_tasks.empty:\n",
        "        break\n",
        "\n",
        "df_sch_tasks['start_time'] = start_time\n",
        "df_sch_tasks['end_time'] = end_time"
      ],
      "metadata": {
        "id": "jLGf33Wp-C59",
        "colab": {
          "base_uri": "https://localhost:8080/"
        },
        "outputId": "14843ad6-6805-4790-e20f-4592a30a92d4"
      },
      "execution_count": null,
      "outputs": [
        {
          "output_type": "stream",
          "name": "stdout",
          "text": [
            "Executing Task 2...\n",
            "Executing Task 4...\n",
            "Executing Task 1...\n",
            "Executing Task 3...\n",
            "All Tasks Done!\n"
          ]
        }
      ]
    },
    {
      "cell_type": "markdown",
      "source": [
        "### ignoring transion times"
      ],
      "metadata": {
        "id": "efz0mCSs-Ssz"
      }
    },
    {
      "cell_type": "code",
      "source": [
        "# schedule df_tasks\n",
        "schedule = []\n",
        "while not df_tasks.empty:\n",
        "    # update slack time for all df_tasks\n",
        "    df_tasks['Slack Time'] = df_tasks['deadline'] - (current_time + df_tasks['WCET'])\n",
        "    # sort df_tasks based on LST and priority\n",
        "    df_tasks = df_tasks.sort_values(by=['Slack Time', 'Priority'], ascending=[True, False])\n",
        "    # select next task\n",
        "    next_task = df_tasks.iloc[0]\n",
        "    schedule.append(next_task)\n",
        "    start_time.append(current_time)\n",
        "    # update current time\n",
        "    current_time += next_task['AET']\n",
        "    # remove task from list of df_tasks\n",
        "    df_tasks = df_tasks.drop(next_task.name)\n",
        "    end_time.append(current_time)\n",
        "\n",
        "df_sch_tasks = pd.DataFrame(schedule, columns = ['name','deadline','WCET','Priority','AET','Slack Time','Device 1','Device 2','Device 3'])\n",
        "df_sch_tasks['start_time'] = start_time\n",
        "df_sch_tasks['end_time'] = end_time"
      ],
      "metadata": {
        "id": "pzIe8E6KZYTf"
      },
      "execution_count": null,
      "outputs": []
    },
    {
      "cell_type": "code",
      "source": [
        "# Continuously monitor the power usage of each device\n",
        "df_tasks = df_sch_tasks\n",
        "while True:\n",
        "    for _, task in df_tasks.iterrows():\n",
        "        can_execute = True\n",
        "        for device in [\"Device 1\", \"Device 2\", \"Device 3\"]:\n",
        "            if task[f\"{device}\"] not in power_usage[device]:\n",
        "                can_execute = False\n",
        "                break\n",
        "        if can_execute:\n",
        "            device_active_power = 0\n",
        "            device_active_energy = 0\n",
        "            \n",
        "            # Execute the task\n",
        "            print(f\"Executing {task['name']}...\")\n",
        "            for device in [\"Device 1\", \"Device 2\", \"Device 3\"]:\n",
        "                device_active_power += power_usage[device][task[f\"{device}\"]]\n",
        "                device_active_energy += power_usage[device][task[f\"{device}\"]]*task.AET\n",
        "\n",
        "                current_state[device] = task[f\"{device}\"]\n",
        "            \n",
        "            df_sch_tasks.loc[task.name,\"device_active_power\"] = device_active_power   \n",
        "            df_sch_tasks.loc[task.name,\"device_active_energy\"] = device_active_energy\n",
        "            df_sch_tasks.loc[task.name,\"device_total_energy\"] = device_active_energy\n",
        "\n",
        "            df_tasks = df_tasks.drop(index=task.name)\n",
        "            if df_tasks.empty:\n",
        "                print(\"All Tasks Done!\")\n",
        "                break\n",
        "        else:\n",
        "            # Invalid state, do not execute task\n",
        "            print(f\"Skipping {task['name']}, invalid state.\")\n",
        "\n",
        "    if df_tasks.empty:\n",
        "        break\n",
        "\n",
        "df_sch_tasks = df_sch_tasks.reset_index()"
      ],
      "metadata": {
        "id": "bHb2Dbo9-MBn",
        "colab": {
          "base_uri": "https://localhost:8080/"
        },
        "outputId": "bdc2f85d-34db-45f7-d14e-78e23685fd8f"
      },
      "execution_count": null,
      "outputs": [
        {
          "output_type": "stream",
          "name": "stdout",
          "text": [
            "Executing Task 2...\n",
            "Executing Task 4...\n",
            "Executing Task 1...\n",
            "Executing Task 3...\n",
            "All Tasks Done!\n"
          ]
        }
      ]
    },
    {
      "cell_type": "code",
      "source": [
        "display(df_sch_tasks)"
      ],
      "metadata": {
        "id": "8o9iE9XhkQQW",
        "colab": {
          "base_uri": "https://localhost:8080/"
        },
        "outputId": "79cb1b0c-3dbe-4b94-ad19-d372f4950620"
      },
      "execution_count": null,
      "outputs": [
        {
          "output_type": "display_data",
          "data": {
            "text/plain": [
              "   index    name  deadline  WCET  Priority    AET  Slack Time Device 1  \\\n",
              "0      1  Task 2        50    45         2  33.75        5.00     idle   \n",
              "1      3  Task 4        70    20         4  15.00       16.25   active   \n",
              "2      0  Task 1       100    40         1  30.00       11.25   active   \n",
              "3      2  Task 3       110    30         3  22.50        1.25      off   \n",
              "\n",
              "  Device 2 Device 3  start_time  end_time  device_active_power  \\\n",
              "0   active     idle        0.00     33.75              102.001   \n",
              "1   active      off       33.75     48.75              150.000   \n",
              "2   active   active       48.75     78.75              152.000   \n",
              "3     idle     idle       78.75    101.25                1.001   \n",
              "\n",
              "   device_active_energy  device_total_energy  \n",
              "0            3442.53375           3442.53375  \n",
              "1            2250.00000           2250.00000  \n",
              "2            4560.00000           4560.00000  \n",
              "3              22.52250             22.52250  "
            ],
            "text/html": [
              "\n",
              "  <div id=\"df-6bdb815a-17c1-4280-a2ea-fd6ce2ded748\">\n",
              "    <div class=\"colab-df-container\">\n",
              "      <div>\n",
              "<style scoped>\n",
              "    .dataframe tbody tr th:only-of-type {\n",
              "        vertical-align: middle;\n",
              "    }\n",
              "\n",
              "    .dataframe tbody tr th {\n",
              "        vertical-align: top;\n",
              "    }\n",
              "\n",
              "    .dataframe thead th {\n",
              "        text-align: right;\n",
              "    }\n",
              "</style>\n",
              "<table border=\"1\" class=\"dataframe\">\n",
              "  <thead>\n",
              "    <tr style=\"text-align: right;\">\n",
              "      <th></th>\n",
              "      <th>index</th>\n",
              "      <th>name</th>\n",
              "      <th>deadline</th>\n",
              "      <th>WCET</th>\n",
              "      <th>Priority</th>\n",
              "      <th>AET</th>\n",
              "      <th>Slack Time</th>\n",
              "      <th>Device 1</th>\n",
              "      <th>Device 2</th>\n",
              "      <th>Device 3</th>\n",
              "      <th>start_time</th>\n",
              "      <th>end_time</th>\n",
              "      <th>device_active_power</th>\n",
              "      <th>device_active_energy</th>\n",
              "      <th>device_total_energy</th>\n",
              "    </tr>\n",
              "  </thead>\n",
              "  <tbody>\n",
              "    <tr>\n",
              "      <th>0</th>\n",
              "      <td>1</td>\n",
              "      <td>Task 2</td>\n",
              "      <td>50</td>\n",
              "      <td>45</td>\n",
              "      <td>2</td>\n",
              "      <td>33.75</td>\n",
              "      <td>5.00</td>\n",
              "      <td>idle</td>\n",
              "      <td>active</td>\n",
              "      <td>idle</td>\n",
              "      <td>0.00</td>\n",
              "      <td>33.75</td>\n",
              "      <td>102.001</td>\n",
              "      <td>3442.53375</td>\n",
              "      <td>3442.53375</td>\n",
              "    </tr>\n",
              "    <tr>\n",
              "      <th>1</th>\n",
              "      <td>3</td>\n",
              "      <td>Task 4</td>\n",
              "      <td>70</td>\n",
              "      <td>20</td>\n",
              "      <td>4</td>\n",
              "      <td>15.00</td>\n",
              "      <td>16.25</td>\n",
              "      <td>active</td>\n",
              "      <td>active</td>\n",
              "      <td>off</td>\n",
              "      <td>33.75</td>\n",
              "      <td>48.75</td>\n",
              "      <td>150.000</td>\n",
              "      <td>2250.00000</td>\n",
              "      <td>2250.00000</td>\n",
              "    </tr>\n",
              "    <tr>\n",
              "      <th>2</th>\n",
              "      <td>0</td>\n",
              "      <td>Task 1</td>\n",
              "      <td>100</td>\n",
              "      <td>40</td>\n",
              "      <td>1</td>\n",
              "      <td>30.00</td>\n",
              "      <td>11.25</td>\n",
              "      <td>active</td>\n",
              "      <td>active</td>\n",
              "      <td>active</td>\n",
              "      <td>48.75</td>\n",
              "      <td>78.75</td>\n",
              "      <td>152.000</td>\n",
              "      <td>4560.00000</td>\n",
              "      <td>4560.00000</td>\n",
              "    </tr>\n",
              "    <tr>\n",
              "      <th>3</th>\n",
              "      <td>2</td>\n",
              "      <td>Task 3</td>\n",
              "      <td>110</td>\n",
              "      <td>30</td>\n",
              "      <td>3</td>\n",
              "      <td>22.50</td>\n",
              "      <td>1.25</td>\n",
              "      <td>off</td>\n",
              "      <td>idle</td>\n",
              "      <td>idle</td>\n",
              "      <td>78.75</td>\n",
              "      <td>101.25</td>\n",
              "      <td>1.001</td>\n",
              "      <td>22.52250</td>\n",
              "      <td>22.52250</td>\n",
              "    </tr>\n",
              "  </tbody>\n",
              "</table>\n",
              "</div>\n",
              "      <button class=\"colab-df-convert\" onclick=\"convertToInteractive('df-6bdb815a-17c1-4280-a2ea-fd6ce2ded748')\"\n",
              "              title=\"Convert this dataframe to an interactive table.\"\n",
              "              style=\"display:none;\">\n",
              "        \n",
              "  <svg xmlns=\"http://www.w3.org/2000/svg\" height=\"24px\"viewBox=\"0 0 24 24\"\n",
              "       width=\"24px\">\n",
              "    <path d=\"M0 0h24v24H0V0z\" fill=\"none\"/>\n",
              "    <path d=\"M18.56 5.44l.94 2.06.94-2.06 2.06-.94-2.06-.94-.94-2.06-.94 2.06-2.06.94zm-11 1L8.5 8.5l.94-2.06 2.06-.94-2.06-.94L8.5 2.5l-.94 2.06-2.06.94zm10 10l.94 2.06.94-2.06 2.06-.94-2.06-.94-.94-2.06-.94 2.06-2.06.94z\"/><path d=\"M17.41 7.96l-1.37-1.37c-.4-.4-.92-.59-1.43-.59-.52 0-1.04.2-1.43.59L10.3 9.45l-7.72 7.72c-.78.78-.78 2.05 0 2.83L4 21.41c.39.39.9.59 1.41.59.51 0 1.02-.2 1.41-.59l7.78-7.78 2.81-2.81c.8-.78.8-2.07 0-2.86zM5.41 20L4 18.59l7.72-7.72 1.47 1.35L5.41 20z\"/>\n",
              "  </svg>\n",
              "      </button>\n",
              "      \n",
              "  <style>\n",
              "    .colab-df-container {\n",
              "      display:flex;\n",
              "      flex-wrap:wrap;\n",
              "      gap: 12px;\n",
              "    }\n",
              "\n",
              "    .colab-df-convert {\n",
              "      background-color: #E8F0FE;\n",
              "      border: none;\n",
              "      border-radius: 50%;\n",
              "      cursor: pointer;\n",
              "      display: none;\n",
              "      fill: #1967D2;\n",
              "      height: 32px;\n",
              "      padding: 0 0 0 0;\n",
              "      width: 32px;\n",
              "    }\n",
              "\n",
              "    .colab-df-convert:hover {\n",
              "      background-color: #E2EBFA;\n",
              "      box-shadow: 0px 1px 2px rgba(60, 64, 67, 0.3), 0px 1px 3px 1px rgba(60, 64, 67, 0.15);\n",
              "      fill: #174EA6;\n",
              "    }\n",
              "\n",
              "    [theme=dark] .colab-df-convert {\n",
              "      background-color: #3B4455;\n",
              "      fill: #D2E3FC;\n",
              "    }\n",
              "\n",
              "    [theme=dark] .colab-df-convert:hover {\n",
              "      background-color: #434B5C;\n",
              "      box-shadow: 0px 1px 3px 1px rgba(0, 0, 0, 0.15);\n",
              "      filter: drop-shadow(0px 1px 2px rgba(0, 0, 0, 0.3));\n",
              "      fill: #FFFFFF;\n",
              "    }\n",
              "  </style>\n",
              "\n",
              "      <script>\n",
              "        const buttonEl =\n",
              "          document.querySelector('#df-6bdb815a-17c1-4280-a2ea-fd6ce2ded748 button.colab-df-convert');\n",
              "        buttonEl.style.display =\n",
              "          google.colab.kernel.accessAllowed ? 'block' : 'none';\n",
              "\n",
              "        async function convertToInteractive(key) {\n",
              "          const element = document.querySelector('#df-6bdb815a-17c1-4280-a2ea-fd6ce2ded748');\n",
              "          const dataTable =\n",
              "            await google.colab.kernel.invokeFunction('convertToInteractive',\n",
              "                                                     [key], {});\n",
              "          if (!dataTable) return;\n",
              "\n",
              "          const docLinkHtml = 'Like what you see? Visit the ' +\n",
              "            '<a target=\"_blank\" href=https://colab.research.google.com/notebooks/data_table.ipynb>data table notebook</a>'\n",
              "            + ' to learn more about interactive tables.';\n",
              "          element.innerHTML = '';\n",
              "          dataTable['output_type'] = 'display_data';\n",
              "          await google.colab.output.renderOutput(dataTable, element);\n",
              "          const docLink = document.createElement('div');\n",
              "          docLink.innerHTML = docLinkHtml;\n",
              "          element.appendChild(docLink);\n",
              "        }\n",
              "      </script>\n",
              "    </div>\n",
              "  </div>\n",
              "  "
            ]
          },
          "metadata": {}
        }
      ]
    },
    {
      "cell_type": "code",
      "source": [
        "max_device_power = 0\n",
        "for device in [\"Device 1\", \"Device 2\", \"Device 3\"]:\n",
        "    max_device_power += power_usage[device]['active']"
      ],
      "metadata": {
        "id": "BLe-QBEb-jUB"
      },
      "execution_count": null,
      "outputs": []
    },
    {
      "cell_type": "code",
      "source": [
        "df_sch_tasks['max_device_power'] = max_device_power\n",
        "df_sch_tasks['max_device_energy'] = df_sch_tasks['max_device_power']*df_sch_tasks['AET']"
      ],
      "metadata": {
        "id": "Vp6w0sLP-wBH"
      },
      "execution_count": null,
      "outputs": []
    },
    {
      "cell_type": "markdown",
      "source": [
        "##plot"
      ],
      "metadata": {
        "id": "YFRkZii9_LnE"
      }
    },
    {
      "cell_type": "code",
      "source": [
        "import numpy as np\n",
        "import matplotlib.pyplot as plt\n",
        "plt.rcParams['figure.figsize'] = (30, 12.5)\n",
        "plt.rcParams['font.size'] = 18"
      ],
      "metadata": {
        "id": "xu3qMYlm_7ij"
      },
      "execution_count": null,
      "outputs": []
    },
    {
      "cell_type": "code",
      "source": [
        "df_plot = df_sch_tasks\n",
        "df_plot['freq'] = 1\n",
        "df_plot['start_time'] = df_plot['AET'].cumsum()-df_plot['AET']"
      ],
      "metadata": {
        "id": "32tLVi_U_R_U"
      },
      "execution_count": null,
      "outputs": []
    },
    {
      "cell_type": "code",
      "source": [
        "titles = df_sch_tasks['name']\n",
        "xmax = df_plot['AET'].sum()+10\n",
        "\n",
        "ax1x = df_plot['start_time'].tolist()\n",
        "ax1y = df_plot['freq'].tolist()\n",
        "ax1w = df_plot['AET'].tolist()\n",
        "ax1title = 'Task profile of non-DPM schedule (E=100%)'\n",
        "ax1_color = [(r,r,r) for r in np.linspace(0, 1, len(ax1w))]\n",
        "\n",
        "ax2x = df_plot['start_time'].tolist()\n",
        "ax2y = df_plot['freq'].tolist()\n",
        "ax2w = df_plot['AET'].tolist()\n",
        "ax2title = 'Task profile of DPM schedule (E='+ str(round((df_plot['device_total_energy'].sum()/df_plot['max_device_energy'].sum()*100),2)) +'%)'\n",
        "ax2_color = [(r,r,r) for r in np.linspace(0, 1, len(ax2w))]"
      ],
      "metadata": {
        "id": "bH___4yN_LYl"
      },
      "execution_count": null,
      "outputs": []
    },
    {
      "cell_type": "code",
      "source": [
        "fig, [ax1,ax2] = plt.subplots(2, 1)\n",
        "fig.tight_layout(pad=5)\n",
        "for i in range(len(ax1x)):\n",
        "    ax1.bar(ax1x[i], ax1y[i], label=titles[i], align = 'edge', width = ax1w[i], color = ax1_color[i],edgecolor='k',zorder=3)\n",
        "ax1.set(xlabel = 'Time_s', ylabel = 'normalised_freq',xlim = (-2.5,xmax), ylim = (0,1.2), title = ax1title)\n",
        "for i in range(len(ax1x)):\n",
        "    ax2.bar(ax2x[i], ax2y[i], label=titles[i], align = 'edge', width = ax2w[i], color = ax2_color[i],edgecolor='k',zorder=3)\n",
        "ax2.set(xlabel = 'Time_s', ylabel = 'normalised_freq',xlim = (-2.5,xmax), ylim = (0,1.2), title = ax2title)\n",
        "ax1.legend()\n",
        "ax2.legend()\n",
        "ax1.grid(zorder=0)\n",
        "ax2.grid(zorder=0)"
      ],
      "metadata": {
        "colab": {
          "base_uri": "https://localhost:8080/",
          "height": 536
        },
        "id": "JmQKwSNwAJ1c",
        "outputId": "21f30064-c952-4b0f-c2e9-60afaac848f6"
      },
      "execution_count": null,
      "outputs": [
        {
          "output_type": "display_data",
          "data": {
            "text/plain": [
              "<Figure size 2160x900 with 2 Axes>"
            ],
            "image/png": "[encoded data removed]"
          },
          "metadata": {
            "needs_background": "light"
          }
        }
      ]
    },
    {
      "cell_type": "code",
      "source": [
        "df_plot_dev = df_sch_tasks[['Device 1','Device 2','Device 3']]\n",
        "df_plot_dev = df_plot_dev.set_index(df_sch_tasks['name'])"
      ],
      "metadata": {
        "id": "tejX18muM3Nq"
      },
      "execution_count": null,
      "outputs": []
    },
    {
      "cell_type": "code",
      "source": [
        "df_plot_dev1 = df_plot_dev.replace(['active','idle','off'],3)\n",
        "df_plot_dev2 = df_plot_dev.replace(['active','idle','off'],[3,2,1])\n"
      ],
      "metadata": {
        "id": "truelK_FOOEd"
      },
      "execution_count": null,
      "outputs": []
    },
    {
      "cell_type": "code",
      "source": [
        "display(df_plot_dev2)"
      ],
      "metadata": {
        "colab": {
          "base_uri": "https://localhost:8080/",
          "height": 206
        },
        "id": "1-0lfuM2Q3vH",
        "outputId": "b86d8d86-6392-479f-8ebf-026dd4e30af0"
      },
      "execution_count": null,
      "outputs": [
        {
          "output_type": "display_data",
          "data": {
            "text/plain": [
              "        Device 1  Device 2  Device 3\n",
              "name                                \n",
              "Task 2         2         3         2\n",
              "Task 4         3         3         1\n",
              "Task 1         3         3         3\n",
              "Task 3         1         2         2"
            ],
            "text/html": [
              "\n",
              "  <div id=\"df-3997730d-b244-4b65-a7f4-baeb4671c3e5\">\n",
              "    <div class=\"colab-df-container\">\n",
              "      <div>\n",
              "<style scoped>\n",
              "    .dataframe tbody tr th:only-of-type {\n",
              "        vertical-align: middle;\n",
              "    }\n",
              "\n",
              "    .dataframe tbody tr th {\n",
              "        vertical-align: top;\n",
              "    }\n",
              "\n",
              "    .dataframe thead th {\n",
              "        text-align: right;\n",
              "    }\n",
              "</style>\n",
              "<table border=\"1\" class=\"dataframe\">\n",
              "  <thead>\n",
              "    <tr style=\"text-align: right;\">\n",
              "      <th></th>\n",
              "      <th>Device 1</th>\n",
              "      <th>Device 2</th>\n",
              "      <th>Device 3</th>\n",
              "    </tr>\n",
              "    <tr>\n",
              "      <th>name</th>\n",
              "      <th></th>\n",
              "      <th></th>\n",
              "      <th></th>\n",
              "    </tr>\n",
              "  </thead>\n",
              "  <tbody>\n",
              "    <tr>\n",
              "      <th>Task 2</th>\n",
              "      <td>2</td>\n",
              "      <td>3</td>\n",
              "      <td>2</td>\n",
              "    </tr>\n",
              "    <tr>\n",
              "      <th>Task 4</th>\n",
              "      <td>3</td>\n",
              "      <td>3</td>\n",
              "      <td>1</td>\n",
              "    </tr>\n",
              "    <tr>\n",
              "      <th>Task 1</th>\n",
              "      <td>3</td>\n",
              "      <td>3</td>\n",
              "      <td>3</td>\n",
              "    </tr>\n",
              "    <tr>\n",
              "      <th>Task 3</th>\n",
              "      <td>1</td>\n",
              "      <td>2</td>\n",
              "      <td>2</td>\n",
              "    </tr>\n",
              "  </tbody>\n",
              "</table>\n",
              "</div>\n",
              "      <button class=\"colab-df-convert\" onclick=\"convertToInteractive('df-3997730d-b244-4b65-a7f4-baeb4671c3e5')\"\n",
              "              title=\"Convert this dataframe to an interactive table.\"\n",
              "              style=\"display:none;\">\n",
              "        \n",
              "  <svg xmlns=\"http://www.w3.org/2000/svg\" height=\"24px\"viewBox=\"0 0 24 24\"\n",
              "       width=\"24px\">\n",
              "    <path d=\"M0 0h24v24H0V0z\" fill=\"none\"/>\n",
              "    <path d=\"M18.56 5.44l.94 2.06.94-2.06 2.06-.94-2.06-.94-.94-2.06-.94 2.06-2.06.94zm-11 1L8.5 8.5l.94-2.06 2.06-.94-2.06-.94L8.5 2.5l-.94 2.06-2.06.94zm10 10l.94 2.06.94-2.06 2.06-.94-2.06-.94-.94-2.06-.94 2.06-2.06.94z\"/><path d=\"M17.41 7.96l-1.37-1.37c-.4-.4-.92-.59-1.43-.59-.52 0-1.04.2-1.43.59L10.3 9.45l-7.72 7.72c-.78.78-.78 2.05 0 2.83L4 21.41c.39.39.9.59 1.41.59.51 0 1.02-.2 1.41-.59l7.78-7.78 2.81-2.81c.8-.78.8-2.07 0-2.86zM5.41 20L4 18.59l7.72-7.72 1.47 1.35L5.41 20z\"/>\n",
              "  </svg>\n",
              "      </button>\n",
              "      \n",
              "  <style>\n",
              "    .colab-df-container {\n",
              "      display:flex;\n",
              "      flex-wrap:wrap;\n",
              "      gap: 12px;\n",
              "    }\n",
              "\n",
              "    .colab-df-convert {\n",
              "      background-color: #E8F0FE;\n",
              "      border: none;\n",
              "      border-radius: 50%;\n",
              "      cursor: pointer;\n",
              "      display: none;\n",
              "      fill: #1967D2;\n",
              "      height: 32px;\n",
              "      padding: 0 0 0 0;\n",
              "      width: 32px;\n",
              "    }\n",
              "\n",
              "    .colab-df-convert:hover {\n",
              "      background-color: #E2EBFA;\n",
              "      box-shadow: 0px 1px 2px rgba(60, 64, 67, 0.3), 0px 1px 3px 1px rgba(60, 64, 67, 0.15);\n",
              "      fill: #174EA6;\n",
              "    }\n",
              "\n",
              "    [theme=dark] .colab-df-convert {\n",
              "      background-color: #3B4455;\n",
              "      fill: #D2E3FC;\n",
              "    }\n",
              "\n",
              "    [theme=dark] .colab-df-convert:hover {\n",
              "      background-color: #434B5C;\n",
              "      box-shadow: 0px 1px 3px 1px rgba(0, 0, 0, 0.15);\n",
              "      filter: drop-shadow(0px 1px 2px rgba(0, 0, 0, 0.3));\n",
              "      fill: #FFFFFF;\n",
              "    }\n",
              "  </style>\n",
              "\n",
              "      <script>\n",
              "        const buttonEl =\n",
              "          document.querySelector('#df-3997730d-b244-4b65-a7f4-baeb4671c3e5 button.colab-df-convert');\n",
              "        buttonEl.style.display =\n",
              "          google.colab.kernel.accessAllowed ? 'block' : 'none';\n",
              "\n",
              "        async function convertToInteractive(key) {\n",
              "          const element = document.querySelector('#df-3997730d-b244-4b65-a7f4-baeb4671c3e5');\n",
              "          const dataTable =\n",
              "            await google.colab.kernel.invokeFunction('convertToInteractive',\n",
              "                                                     [key], {});\n",
              "          if (!dataTable) return;\n",
              "\n",
              "          const docLinkHtml = 'Like what you see? Visit the ' +\n",
              "            '<a target=\"_blank\" href=https://colab.research.google.com/notebooks/data_table.ipynb>data table notebook</a>'\n",
              "            + ' to learn more about interactive tables.';\n",
              "          element.innerHTML = '';\n",
              "          dataTable['output_type'] = 'display_data';\n",
              "          await google.colab.output.renderOutput(dataTable, element);\n",
              "          const docLink = document.createElement('div');\n",
              "          docLink.innerHTML = docLinkHtml;\n",
              "          element.appendChild(docLink);\n",
              "        }\n",
              "      </script>\n",
              "    </div>\n",
              "  </div>\n",
              "  "
            ]
          },
          "metadata": {}
        }
      ]
    },
    {
      "cell_type": "code",
      "source": [
        "import numpy as np\n",
        "import matplotlib.pyplot as plt\n",
        "plt.rcParams['figure.figsize'] = (30, 17.5)\n",
        "plt.rcParams['font.size'] = 20"
      ],
      "metadata": {
        "id": "bNKFXQWg5L3m"
      },
      "execution_count": null,
      "outputs": []
    },
    {
      "cell_type": "code",
      "source": [
        "ax1title = 'Task profile of non-DPM schedule (E=100%)'\n",
        "ax2title = 'Task profile of DPM schedule (E='+ str(round((df_plot['device_total_energy'].sum()/df_plot['max_device_energy'].sum()*100),2)) +'%)'\n",
        "color = ['black', 'grey', 'white']"
      ],
      "metadata": {
        "id": "Psu7KxrZ4JGS"
      },
      "execution_count": null,
      "outputs": []
    },
    {
      "cell_type": "code",
      "source": [
        "fig, [ax1,ax2] = plt.subplots(2, 1)\n",
        "fig.tight_layout(pad=5)\n",
        "\n",
        "plot1 = df_plot_dev1.plot.bar(yticks=([0,1,2,3,4]),rot = 0,zorder=3, color = color,edgecolor='k',title = ax1title, ax = ax1)\n",
        "plot1.set_xlabel('Tasks')\n",
        "plot1.set_ylabel('State')\n",
        "plot1.set_yticklabels(['','Off','Idle','Active',''])\n",
        "plot1.legend(loc = 1)\n",
        "plot1.grid(zorder=0)\n",
        "\n",
        "plot2 = df_plot_dev2.plot.bar(yticks=([0,1,2,3,4]),rot = 0,zorder=3, color = color,edgecolor='k',title = ax2title, ax = ax2)\n",
        "plot2.set_xlabel('Tasks')\n",
        "plot2.set_ylabel('State')\n",
        "plot2.set_yticklabels(['','Off','Idle','Active',''])\n",
        "plot2.grid(zorder=0)"
      ],
      "metadata": {
        "colab": {
          "base_uri": "https://localhost:8080/",
          "height": 1000
        },
        "id": "N7EZ9-3iRTvz",
        "outputId": "076c9e33-d3b7-4fe6-aa3c-ec3106307d21"
      },
      "execution_count": null,
      "outputs": [
        {
          "output_type": "display_data",
          "data": {
            "text/plain": [
              "<Figure size 2160x1260 with 2 Axes>"
            ],
            "image/png": "[encoded data removed]"
          },
          "metadata": {
            "needs_background": "light"
          }
        }
      ]
    },
    {
      "cell_type": "code",
      "source": [],
      "metadata": {
        "id": "IPP-DUGtVe9x"
      },
      "execution_count": null,
      "outputs": []
    }
  ]
}