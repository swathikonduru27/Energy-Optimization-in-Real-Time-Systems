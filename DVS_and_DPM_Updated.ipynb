{
  "nbformat": 4,
  "nbformat_minor": 0,
  "metadata": {
    "colab": {
      "provenance": [],
      "collapsed_sections": [
        "i9xNoMUjdxWa"
      ]
    },
    "kernelspec": {
      "name": "python3",
      "display_name": "Python 3"
    },
    "language_info": {
      "name": "python"
    }
  },
  "cells": [
    {
      "cell_type": "code",
      "source": [
        "import pandas as pd\n",
        "import numpy as np"
      ],
      "metadata": {
        "id": "Z-m4-gyDKuo2"
      },
      "execution_count": null,
      "outputs": []
    },
    {
      "cell_type": "markdown",
      "source": [
        "##Tasks"
      ],
      "metadata": {
        "id": "1snX7gLIKc2w"
      }
    },
    {
      "cell_type": "markdown",
      "source": [
        "*   Device 1 : Panasonic Grid-EYE: standby power of around 2 mW and active power of around 50 mW.\n",
        "*   Device 2 : Sentek pH-Probe: standby power of around 1 mW and active power of around 100 mW.\n",
        "*   Device 3 : CHT3 capacitive humidity sensor from Sensirion: standby power of around 0.001 mW and active power of around 2 mW.\n",
        "\n",
        "\n",
        "\n"
      ],
      "metadata": {
        "id": "cb5sk3ILMvV-"
      }
    },
    {
      "cell_type": "markdown",
      "source": [
        "Panasonic Grid-EYE infrared array sensor, that has transition time of around 2 seconds from off to standby and less than 1ms from standby to active.\n",
        "\n",
        "\n",
        "pH probes typically do not have the ability to be turned off or placed in standby mode, as they are continuously measuring the pH of a solution.\n",
        "However, it's worth mentioning that, the Sentek pH-Probe sensor, which is a soil moisture and pH sensor, typically has a response time of around 1 second. Response time refers to the time it takes for the sensor to provide a measurement after being inserted into the soil."
      ],
      "metadata": {
        "id": "M6cvMbnxYzLW"
      }
    },
    {
      "cell_type": "code",
      "source": [
        "# Define the power usage for each device in each state\n",
        "\n",
        "#in mW\n",
        "power_usage = {\n",
        "    \"Device 1\": {\"off\": 0, \"idle\": 2, \"active\": 50},\n",
        "    \"Device 2\": {\"off\": 0, \"idle\": 1, \"active\": 100},\n",
        "    \"Device 3\": {\"off\": 0, \"idle\": 0.001, \"active\": 2}\n",
        "}\n",
        "\n",
        "transition_times = {\n",
        "\"Device 1\": {\"off_to_idle\": 2, \"off_to_active\": 2.01, \"idle_to_active\": 0.01, \"active_to_idle\": 0.01, \"idle_to_off\": 2, \"active_to_off\": 2.01},\n",
        "\"Device 2\": {\"off_to_idle\": 0, \"off_to_active\": 0, \"idle_to_active\": 0, \"active_to_idle\": 0, \"idle_to_off\": 0, \"active_to_off\": 0},\n",
        "\"Device 3\": {\"off_to_idle\": 0, \"off_to_active\": 0, \"idle_to_active\": 0, \"active_to_idle\": 0, \"idle_to_off\": 0, \"active_to_off\": 0}\n",
        "}\n",
        "\n",
        "transition_powers = {\n",
        "\"Device 1\": {\"off_to_idle\": 2, \"off_to_active\": 2, \"idle_to_active\": 3, \"active_to_idle\": 4, \"idle_to_off\": 5, \"active_to_off\": 6},\n",
        "\"Device 2\": {\"off_to_idle\": 3, \"off_to_active\": 2, \"idle_to_active\": 4, \"active_to_idle\": 5, \"idle_to_off\": 6, \"active_to_off\": 7},\n",
        "\"Device 3\": {\"off_to_idle\": 4, \"off_to_active\": 2, \"idle_to_active\": 5, \"active_to_idle\": 6, \"idle_to_off\": 7, \"active_to_off\": 8}\n",
        "}\n",
        "\n",
        "# Define the current state for each device\n",
        "current_state = {\"Device 1\": \"off\", \"Device 2\": \"off\", \"Device 3\": \"off\"}\n",
        "\n",
        "# Define the tasks as a DataFrame\n",
        "df_tasks = pd.DataFrame(data={\n",
        "    \"name\": [\"Task 1\", \"Task 2\", \"Task 3\", \"Task 4\"],\n",
        "    \"Device 1\": [\"active\", \"idle\", \"off\", \"active\"],\n",
        "    \"Device 2\": [\"active\", \"active\", \"idle\", \"active\"],\n",
        "    \"Device 3\": [\"active\", \"idle\", \"idle\", \"off\"],\n",
        "    \"deadline\": [100, 50, 110, 70],\n",
        "    \"WCET\": [40, 45, 30, 20],\n",
        "    \"Priority\": [1, 2, 3, 4]\n",
        "})\n",
        "\n",
        "df_tasks['AET'] = .75*df_tasks['WCET']\n",
        "\n",
        "current_time = 0\n",
        "start_time = []\n",
        "end_time = []"
      ],
      "metadata": {
        "id": "eujpLnN0KrnG"
      },
      "execution_count": null,
      "outputs": []
    },
    {
      "cell_type": "code",
      "source": [
        "# schedule df_tasks\n",
        "schedule = []\n",
        "while not df_tasks.empty:\n",
        "    # update slack time for all df_tasks\n",
        "    df_tasks['Slack Time'] = df_tasks['deadline'] - (current_time + df_tasks['WCET'])\n",
        "    # sort df_tasks based on LST and priority\n",
        "    df_tasks = df_tasks.sort_values(by=['Slack Time', 'Priority'], ascending=[True, False])\n",
        "    # select next task\n",
        "    next_task = df_tasks.iloc[0]\n",
        "    schedule.append(next_task)\n",
        "    start_time.append(current_time)\n",
        "    # update current time\n",
        "    current_time += next_task['AET']\n",
        "    # remove task from list of df_tasks\n",
        "    df_tasks = df_tasks.drop(next_task.name)\n",
        "    end_time.append(current_time)\n",
        "\n",
        "df_sch_tasks = pd.DataFrame(schedule, columns = ['name','deadline','WCET','Priority','AET','Slack Time','Device 1','Device 2','Device 3'])\n",
        "df_sch_tasks['start_time'] = start_time\n",
        "df_sch_tasks['end_time'] = end_time"
      ],
      "metadata": {
        "id": "s3phJ5CqbUP2"
      },
      "execution_count": null,
      "outputs": []
    },
    {
      "cell_type": "markdown",
      "source": [
        "##DPM"
      ],
      "metadata": {
        "id": "rkoaQL4BLeau"
      }
    },
    {
      "cell_type": "markdown",
      "source": [
        "###with transition times"
      ],
      "metadata": {
        "id": "i9xNoMUjdxWa"
      }
    },
    {
      "cell_type": "code",
      "source": [
        "# Continuously monitor the power usage of each device\n",
        "while True:\n",
        "    df_tasks[\"Slack Time\"] = df_tasks[\"deadline\"] - (current_time + df_tasks[\"WCET\"])\n",
        "    df_tasks = df_tasks.sort_values(by=['Slack Time', 'Priority'], ascending=[True, False])\n",
        "    df_sch_tasks = df_tasks\n",
        "    for _, task in df_tasks.iterrows():\n",
        "        can_execute = True\n",
        "        for device in [\"Device 1\", \"Device 2\", \"Device 3\"]:\n",
        "            if task[f\"{device}\"] not in power_usage[device]:\n",
        "                can_execute = False\n",
        "                break\n",
        "        if can_execute:\n",
        "            device_active_energy = 0\n",
        "            \n",
        "            # Execute the task\n",
        "            print(f\"Executing {task['name']}...\")\n",
        "            transition = f\"{current_state[device]}to{task[f'{device}']}\"\n",
        "            for device in [\"Device 1\", \"Device 2\", \"Device 3\"]:\n",
        "                device_active_energy += power_usage[device][task[f\"{device}\"]]*task.AET\n",
        "                \n",
        "                #transition\n",
        "                device_transition_energy = 0\n",
        "                current_state_name = current_state[device]\n",
        "                next_state_name = task[f\"{device}\"]\n",
        "                if current_state_name != next_state_name:\n",
        "                    transition_key = f\"{current_state_name}_to_{next_state_name}\"\n",
        "                    transition_time = transition_times[device][transition_key]\n",
        "                    transition_power = transition_powers[device][transition_key]\n",
        "                    device_transition_energy = transition_time * transition_power\n",
        "                    device_active_energy += device_transition_energy\n",
        "\n",
        "\n",
        "                current_state[device] = task[f\"{device}\"]\n",
        "                \n",
        "            df_sch_tasks.loc[task.name,\"device_active_energy\"] = device_active_energy\n",
        "            df_sch_tasks.loc[task.name,\"device_transition_energy\"] = device_transition_energy\n",
        "            df_sch_tasks.loc[task.name,\"total_energy\"] = device_active_energy + device_transition_energy\n",
        "\n",
        "\n",
        "            start_time.append(current_time)\n",
        "            current_time += task['AET']\n",
        "            end_time.append(current_time)\n",
        "\n",
        "            df_tasks = df_tasks.drop(index=task.name)\n",
        "            if df_tasks.empty:\n",
        "                print(\"All Tasks Done!\")\n",
        "                break\n",
        "        else:\n",
        "            # Invalid state, do not execute task\n",
        "            print(f\"Skipping {task['name']}, invalid state.\")\n",
        "\n",
        "    if df_tasks.empty:\n",
        "        break\n",
        "\n",
        "df_sch_tasks['start_time'] = start_time\n",
        "df_sch_tasks['end_time'] = end_time"
      ],
      "metadata": {
        "colab": {
          "base_uri": "https://localhost:8080/"
        },
        "id": "v1Gy6qnILd2n",
        "outputId": "b873c0f8-51e6-4239-c989-27ee6770877c"
      },
      "execution_count": null,
      "outputs": [
        {
          "output_type": "stream",
          "name": "stdout",
          "text": [
            "Executing Task 2...\n",
            "Executing Task 4...\n",
            "Executing Task 1...\n",
            "Executing Task 3...\n",
            "All Tasks Done!\n"
          ]
        }
      ]
    },
    {
      "cell_type": "markdown",
      "source": [
        "### ignoring transion times"
      ],
      "metadata": {
        "id": "utQeHQZ1d0jG"
      }
    },
    {
      "cell_type": "code",
      "source": [
        "# Continuously monitor the power usage of each device\n",
        "df_tasks = df_sch_tasks\n",
        "while True:\n",
        "    for _, task in df_tasks.iterrows():\n",
        "        can_execute = True\n",
        "        for device in [\"Device 1\", \"Device 2\", \"Device 3\"]:\n",
        "            if task[f\"{device}\"] not in power_usage[device]:\n",
        "                can_execute = False\n",
        "                break\n",
        "        if can_execute:\n",
        "            device_active_power = 0\n",
        "            device_active_energy = 0\n",
        "            \n",
        "            # Execute the task\n",
        "            print(f\"Executing {task['name']}...\")\n",
        "            for device in [\"Device 1\", \"Device 2\", \"Device 3\"]:\n",
        "                device_active_power += power_usage[device][task[f\"{device}\"]]\n",
        "\n",
        "                current_state[device] = task[f\"{device}\"]\n",
        "            \n",
        "            df_sch_tasks.loc[task.name,\"device_active_power\"] = device_active_power   \n",
        "\n",
        "            df_tasks = df_tasks.drop(index=task.name)\n",
        "            if df_tasks.empty:\n",
        "                print(\"All Tasks Done!\")\n",
        "                break\n",
        "        else:\n",
        "            # Invalid state, do not execute task\n",
        "            print(f\"Skipping {task['name']}, invalid state.\")\n",
        "\n",
        "    if df_tasks.empty:\n",
        "        break\n",
        "\n",
        "df_sch_tasks = df_sch_tasks.reset_index()"
      ],
      "metadata": {
        "colab": {
          "base_uri": "https://localhost:8080/"
        },
        "id": "p-GkBzjjc_Yp",
        "outputId": "b90419bd-310d-4248-831f-7b042be658c6"
      },
      "execution_count": null,
      "outputs": [
        {
          "output_type": "stream",
          "name": "stdout",
          "text": [
            "Executing Task 2...\n",
            "Executing Task 4...\n",
            "Executing Task 1...\n",
            "Executing Task 3...\n",
            "All Tasks Done!\n"
          ]
        }
      ]
    },
    {
      "cell_type": "code",
      "source": [
        "display(df_sch_tasks)"
      ],
      "metadata": {
        "colab": {
          "base_uri": "https://localhost:8080/"
        },
        "id": "-pB1BBOWL01t",
        "outputId": "e98be876-7232-4571-8a5b-ef60cfc870bd"
      },
      "execution_count": null,
      "outputs": [
        {
          "output_type": "display_data",
          "data": {
            "text/plain": [
              "   index    name  deadline  WCET  Priority    AET  Slack Time Device 1  \\\n",
              "0      1  Task 2        50    45         2  33.75        5.00     idle   \n",
              "1      3  Task 4        70    20         4  15.00       16.25   active   \n",
              "2      0  Task 1       100    40         1  30.00       11.25   active   \n",
              "3      2  Task 3       110    30         3  22.50        1.25      off   \n",
              "\n",
              "  Device 2 Device 3  start_time  end_time  device_active_power  \n",
              "0   active     idle        0.00     33.75              102.001  \n",
              "1   active      off       33.75     48.75              150.000  \n",
              "2   active   active       48.75     78.75              152.000  \n",
              "3     idle     idle       78.75    101.25                1.001  "
            ],
            "text/html": [
              "\n",
              "  <div id=\"df-eb33ad7a-6f7d-4b36-b2cc-eecb7c134841\">\n",
              "    <div class=\"colab-df-container\">\n",
              "      <div>\n",
              "<style scoped>\n",
              "    .dataframe tbody tr th:only-of-type {\n",
              "        vertical-align: middle;\n",
              "    }\n",
              "\n",
              "    .dataframe tbody tr th {\n",
              "        vertical-align: top;\n",
              "    }\n",
              "\n",
              "    .dataframe thead th {\n",
              "        text-align: right;\n",
              "    }\n",
              "</style>\n",
              "<table border=\"1\" class=\"dataframe\">\n",
              "  <thead>\n",
              "    <tr style=\"text-align: right;\">\n",
              "      <th></th>\n",
              "      <th>index</th>\n",
              "      <th>name</th>\n",
              "      <th>deadline</th>\n",
              "      <th>WCET</th>\n",
              "      <th>Priority</th>\n",
              "      <th>AET</th>\n",
              "      <th>Slack Time</th>\n",
              "      <th>Device 1</th>\n",
              "      <th>Device 2</th>\n",
              "      <th>Device 3</th>\n",
              "      <th>start_time</th>\n",
              "      <th>end_time</th>\n",
              "      <th>device_active_power</th>\n",
              "    </tr>\n",
              "  </thead>\n",
              "  <tbody>\n",
              "    <tr>\n",
              "      <th>0</th>\n",
              "      <td>1</td>\n",
              "      <td>Task 2</td>\n",
              "      <td>50</td>\n",
              "      <td>45</td>\n",
              "      <td>2</td>\n",
              "      <td>33.75</td>\n",
              "      <td>5.00</td>\n",
              "      <td>idle</td>\n",
              "      <td>active</td>\n",
              "      <td>idle</td>\n",
              "      <td>0.00</td>\n",
              "      <td>33.75</td>\n",
              "      <td>102.001</td>\n",
              "    </tr>\n",
              "    <tr>\n",
              "      <th>1</th>\n",
              "      <td>3</td>\n",
              "      <td>Task 4</td>\n",
              "      <td>70</td>\n",
              "      <td>20</td>\n",
              "      <td>4</td>\n",
              "      <td>15.00</td>\n",
              "      <td>16.25</td>\n",
              "      <td>active</td>\n",
              "      <td>active</td>\n",
              "      <td>off</td>\n",
              "      <td>33.75</td>\n",
              "      <td>48.75</td>\n",
              "      <td>150.000</td>\n",
              "    </tr>\n",
              "    <tr>\n",
              "      <th>2</th>\n",
              "      <td>0</td>\n",
              "      <td>Task 1</td>\n",
              "      <td>100</td>\n",
              "      <td>40</td>\n",
              "      <td>1</td>\n",
              "      <td>30.00</td>\n",
              "      <td>11.25</td>\n",
              "      <td>active</td>\n",
              "      <td>active</td>\n",
              "      <td>active</td>\n",
              "      <td>48.75</td>\n",
              "      <td>78.75</td>\n",
              "      <td>152.000</td>\n",
              "    </tr>\n",
              "    <tr>\n",
              "      <th>3</th>\n",
              "      <td>2</td>\n",
              "      <td>Task 3</td>\n",
              "      <td>110</td>\n",
              "      <td>30</td>\n",
              "      <td>3</td>\n",
              "      <td>22.50</td>\n",
              "      <td>1.25</td>\n",
              "      <td>off</td>\n",
              "      <td>idle</td>\n",
              "      <td>idle</td>\n",
              "      <td>78.75</td>\n",
              "      <td>101.25</td>\n",
              "      <td>1.001</td>\n",
              "    </tr>\n",
              "  </tbody>\n",
              "</table>\n",
              "</div>\n",
              "      <button class=\"colab-df-convert\" onclick=\"convertToInteractive('df-eb33ad7a-6f7d-4b36-b2cc-eecb7c134841')\"\n",
              "              title=\"Convert this dataframe to an interactive table.\"\n",
              "              style=\"display:none;\">\n",
              "        \n",
              "  <svg xmlns=\"http://www.w3.org/2000/svg\" height=\"24px\"viewBox=\"0 0 24 24\"\n",
              "       width=\"24px\">\n",
              "    <path d=\"M0 0h24v24H0V0z\" fill=\"none\"/>\n",
              "    <path d=\"M18.56 5.44l.94 2.06.94-2.06 2.06-.94-2.06-.94-.94-2.06-.94 2.06-2.06.94zm-11 1L8.5 8.5l.94-2.06 2.06-.94-2.06-.94L8.5 2.5l-.94 2.06-2.06.94zm10 10l.94 2.06.94-2.06 2.06-.94-2.06-.94-.94-2.06-.94 2.06-2.06.94z\"/><path d=\"M17.41 7.96l-1.37-1.37c-.4-.4-.92-.59-1.43-.59-.52 0-1.04.2-1.43.59L10.3 9.45l-7.72 7.72c-.78.78-.78 2.05 0 2.83L4 21.41c.39.39.9.59 1.41.59.51 0 1.02-.2 1.41-.59l7.78-7.78 2.81-2.81c.8-.78.8-2.07 0-2.86zM5.41 20L4 18.59l7.72-7.72 1.47 1.35L5.41 20z\"/>\n",
              "  </svg>\n",
              "      </button>\n",
              "      \n",
              "  <style>\n",
              "    .colab-df-container {\n",
              "      display:flex;\n",
              "      flex-wrap:wrap;\n",
              "      gap: 12px;\n",
              "    }\n",
              "\n",
              "    .colab-df-convert {\n",
              "      background-color: #E8F0FE;\n",
              "      border: none;\n",
              "      border-radius: 50%;\n",
              "      cursor: pointer;\n",
              "      display: none;\n",
              "      fill: #1967D2;\n",
              "      height: 32px;\n",
              "      padding: 0 0 0 0;\n",
              "      width: 32px;\n",
              "    }\n",
              "\n",
              "    .colab-df-convert:hover {\n",
              "      background-color: #E2EBFA;\n",
              "      box-shadow: 0px 1px 2px rgba(60, 64, 67, 0.3), 0px 1px 3px 1px rgba(60, 64, 67, 0.15);\n",
              "      fill: #174EA6;\n",
              "    }\n",
              "\n",
              "    [theme=dark] .colab-df-convert {\n",
              "      background-color: #3B4455;\n",
              "      fill: #D2E3FC;\n",
              "    }\n",
              "\n",
              "    [theme=dark] .colab-df-convert:hover {\n",
              "      background-color: #434B5C;\n",
              "      box-shadow: 0px 1px 3px 1px rgba(0, 0, 0, 0.15);\n",
              "      filter: drop-shadow(0px 1px 2px rgba(0, 0, 0, 0.3));\n",
              "      fill: #FFFFFF;\n",
              "    }\n",
              "  </style>\n",
              "\n",
              "      <script>\n",
              "        const buttonEl =\n",
              "          document.querySelector('#df-eb33ad7a-6f7d-4b36-b2cc-eecb7c134841 button.colab-df-convert');\n",
              "        buttonEl.style.display =\n",
              "          google.colab.kernel.accessAllowed ? 'block' : 'none';\n",
              "\n",
              "        async function convertToInteractive(key) {\n",
              "          const element = document.querySelector('#df-eb33ad7a-6f7d-4b36-b2cc-eecb7c134841');\n",
              "          const dataTable =\n",
              "            await google.colab.kernel.invokeFunction('convertToInteractive',\n",
              "                                                     [key], {});\n",
              "          if (!dataTable) return;\n",
              "\n",
              "          const docLinkHtml = 'Like what you see? Visit the ' +\n",
              "            '<a target=\"_blank\" href=https://colab.research.google.com/notebooks/data_table.ipynb>data table notebook</a>'\n",
              "            + ' to learn more about interactive tables.';\n",
              "          element.innerHTML = '';\n",
              "          dataTable['output_type'] = 'display_data';\n",
              "          await google.colab.output.renderOutput(dataTable, element);\n",
              "          const docLink = document.createElement('div');\n",
              "          docLink.innerHTML = docLinkHtml;\n",
              "          element.appendChild(docLink);\n",
              "        }\n",
              "      </script>\n",
              "    </div>\n",
              "  </div>\n",
              "  "
            ]
          },
          "metadata": {}
        }
      ]
    },
    {
      "cell_type": "markdown",
      "source": [
        "##DVS with external devices"
      ],
      "metadata": {
        "id": "tA3lHV0GLotD"
      }
    },
    {
      "cell_type": "code",
      "execution_count": null,
      "metadata": {
        "id": "I2aINghGjigi"
      },
      "outputs": [],
      "source": [
        "# approximate values for Intel Core i7-9700K \n",
        "\n",
        "P_dyn_1 = 125 # W dynamic power at max frequency\n",
        "P_static = 75 # W static power (assumed to be constant)\n",
        "P_cpu = P_dyn_1 + P_static # W CPU power"
      ]
    },
    {
      "cell_type": "code",
      "source": [
        "df_task_dvs = df_sch_tasks[['name','deadline','WCET','AET','device_active_power']]"
      ],
      "metadata": {
        "id": "9TF2oVxQoPpQ"
      },
      "execution_count": null,
      "outputs": []
    },
    {
      "cell_type": "code",
      "source": [
        "df_task_dvs['i_mu'] = 1/(df_task_dvs['WCET'].sum()/df_task_dvs['deadline'].sum())"
      ],
      "metadata": {
        "colab": {
          "base_uri": "https://localhost:8080/"
        },
        "id": "MCaw5rAzpcj7",
        "outputId": "b5f71301-183e-4066-b8aa-9d9c35d6e190"
      },
      "execution_count": null,
      "outputs": [
        {
          "output_type": "stream",
          "name": "stderr",
          "text": [
            "<ipython-input-8-78a14886b934>:1: SettingWithCopyWarning: \n",
            "A value is trying to be set on a copy of a slice from a DataFrame.\n",
            "Try using .loc[row_indexer,col_indexer] = value instead\n",
            "\n",
            "See the caveats in the documentation: https://pandas.pydata.org/pandas-docs/stable/user_guide/indexing.html#returning-a-view-versus-a-copy\n",
            "  df_task_dvs['i_mu'] = 1/(df_task_dvs['WCET'].sum()/df_task_dvs['deadline'].sum())\n"
          ]
        }
      ]
    },
    {
      "cell_type": "markdown",
      "source": [
        "[limitations of DVS](https://drive.google.com/file/d/1hFt7SAzWnj6O9yxfqawd2k4MYLP5e6O0/view?usp=share_link)"
      ],
      "metadata": {
        "id": "Rtq3k17stFjQ"
      }
    },
    {
      "cell_type": "code",
      "source": [
        "#Formula\n",
        "sf_eq = pow(((2*P_dyn_1)/(P_static+df_task_dvs['device_active_power'])),1/3)\n",
        "sf_eq = np.clip(round(sf_eq,2), a_min = 1, a_max = 4) # refer above image\n",
        "df_task_dvs['sf_eq'] = sf_eq"
      ],
      "metadata": {
        "colab": {
          "base_uri": "https://localhost:8080/"
        },
        "id": "OsTOVdDQppuJ",
        "outputId": "cfd15d8d-14c3-49e0-f682-0457e86af7da"
      },
      "execution_count": null,
      "outputs": [
        {
          "output_type": "stream",
          "name": "stderr",
          "text": [
            "<ipython-input-9-42e32886fb5a>:4: SettingWithCopyWarning: \n",
            "A value is trying to be set on a copy of a slice from a DataFrame.\n",
            "Try using .loc[row_indexer,col_indexer] = value instead\n",
            "\n",
            "See the caveats in the documentation: https://pandas.pydata.org/pandas-docs/stable/user_guide/indexing.html#returning-a-view-versus-a-copy\n",
            "  df_task_dvs['sf_eq'] = sf_eq\n"
          ]
        }
      ]
    },
    {
      "cell_type": "code",
      "source": [
        "df_task_dvs['sf_act'] = df_task_dvs[['i_mu','sf_eq']].min(axis=1)"
      ],
      "metadata": {
        "colab": {
          "base_uri": "https://localhost:8080/"
        },
        "id": "t2R5g4qvtROc",
        "outputId": "75f04fcf-4c77-4f2c-a129-495884a9eef6"
      },
      "execution_count": null,
      "outputs": [
        {
          "output_type": "stream",
          "name": "stderr",
          "text": [
            "<ipython-input-10-63ab99bcff97>:1: SettingWithCopyWarning: \n",
            "A value is trying to be set on a copy of a slice from a DataFrame.\n",
            "Try using .loc[row_indexer,col_indexer] = value instead\n",
            "\n",
            "See the caveats in the documentation: https://pandas.pydata.org/pandas-docs/stable/user_guide/indexing.html#returning-a-view-versus-a-copy\n",
            "  df_task_dvs['sf_act'] = df_task_dvs[['i_mu','sf_eq']].min(axis=1)\n"
          ]
        }
      ]
    },
    {
      "cell_type": "code",
      "source": [
        "df_task_dvs['P_cpu_DVS'] = pow(df_task_dvs['sf_act'],-3)*P_dyn_1+P_static+df_task_dvs['device_active_power']\n",
        "df_task_dvs['AET_cpu_DVS'] = df_task_dvs['sf_act']*df_task_dvs['AET']\n",
        "df_task_dvs['E_cpu_DVS'] = (pow(df_task_dvs['sf_act'],-2)*P_dyn_1+df_task_dvs['sf_act']*(P_static+df_task_dvs['device_active_power']))*df_task_dvs['AET']"
      ],
      "metadata": {
        "colab": {
          "base_uri": "https://localhost:8080/"
        },
        "id": "rMeDNXNata1Z",
        "outputId": "4aa30edc-1c43-465b-bd23-7430824845fb"
      },
      "execution_count": null,
      "outputs": [
        {
          "output_type": "stream",
          "name": "stderr",
          "text": [
            "<ipython-input-11-a2618ba4731a>:1: SettingWithCopyWarning: \n",
            "A value is trying to be set on a copy of a slice from a DataFrame.\n",
            "Try using .loc[row_indexer,col_indexer] = value instead\n",
            "\n",
            "See the caveats in the documentation: https://pandas.pydata.org/pandas-docs/stable/user_guide/indexing.html#returning-a-view-versus-a-copy\n",
            "  df_task_dvs['P_cpu_DVS'] = pow(df_task_dvs['sf_act'],-3)*P_dyn_1+P_static+df_task_dvs['device_active_power']\n",
            "<ipython-input-11-a2618ba4731a>:2: SettingWithCopyWarning: \n",
            "A value is trying to be set on a copy of a slice from a DataFrame.\n",
            "Try using .loc[row_indexer,col_indexer] = value instead\n",
            "\n",
            "See the caveats in the documentation: https://pandas.pydata.org/pandas-docs/stable/user_guide/indexing.html#returning-a-view-versus-a-copy\n",
            "  df_task_dvs['AET_cpu_DVS'] = df_task_dvs['sf_act']*df_task_dvs['AET']\n",
            "<ipython-input-11-a2618ba4731a>:3: SettingWithCopyWarning: \n",
            "A value is trying to be set on a copy of a slice from a DataFrame.\n",
            "Try using .loc[row_indexer,col_indexer] = value instead\n",
            "\n",
            "See the caveats in the documentation: https://pandas.pydata.org/pandas-docs/stable/user_guide/indexing.html#returning-a-view-versus-a-copy\n",
            "  df_task_dvs['E_cpu_DVS'] = (pow(df_task_dvs['sf_act'],-2)*P_dyn_1+df_task_dvs['sf_act']*(P_static+df_task_dvs['device_active_power']))*df_task_dvs['AET']\n"
          ]
        }
      ]
    },
    {
      "cell_type": "code",
      "source": [
        "df_task_dvs = df_task_dvs.round(2)"
      ],
      "metadata": {
        "id": "30fno0-k5f2D"
      },
      "execution_count": null,
      "outputs": []
    },
    {
      "cell_type": "code",
      "source": [
        "display(df_task_dvs)"
      ],
      "metadata": {
        "colab": {
          "base_uri": "https://localhost:8080/"
        },
        "id": "Hl9AARtqtkVn",
        "outputId": "57e955c0-159e-4103-e8b9-2444fd60679a"
      },
      "execution_count": null,
      "outputs": [
        {
          "output_type": "display_data",
          "data": {
            "text/plain": [
              "     name  deadline  WCET    AET  device_active_power  i_mu  sf_eq  sf_act  \\\n",
              "0  Task 2        50    45  33.75                102.0  2.44   1.12    1.12   \n",
              "1  Task 4        70    20  15.00                150.0  2.44   1.04    1.04   \n",
              "2  Task 1       100    40  30.00                152.0  2.44   1.03    1.03   \n",
              "3  Task 3       110    30  22.50                  1.0  2.44   1.49    1.49   \n",
              "\n",
              "   P_cpu_DVS  AET_cpu_DVS  E_cpu_DVS  \n",
              "0     265.97        37.80   10053.80  \n",
              "1     336.12        15.60    5243.54  \n",
              "2     341.39        30.90   10549.03  \n",
              "3     113.79        33.52    3814.77  "
            ],
            "text/html": [
              "\n",
              "  <div id=\"df-e3ba8b8f-f5e9-4497-9361-956a39f25b56\">\n",
              "    <div class=\"colab-df-container\">\n",
              "      <div>\n",
              "<style scoped>\n",
              "    .dataframe tbody tr th:only-of-type {\n",
              "        vertical-align: middle;\n",
              "    }\n",
              "\n",
              "    .dataframe tbody tr th {\n",
              "        vertical-align: top;\n",
              "    }\n",
              "\n",
              "    .dataframe thead th {\n",
              "        text-align: right;\n",
              "    }\n",
              "</style>\n",
              "<table border=\"1\" class=\"dataframe\">\n",
              "  <thead>\n",
              "    <tr style=\"text-align: right;\">\n",
              "      <th></th>\n",
              "      <th>name</th>\n",
              "      <th>deadline</th>\n",
              "      <th>WCET</th>\n",
              "      <th>AET</th>\n",
              "      <th>device_active_power</th>\n",
              "      <th>i_mu</th>\n",
              "      <th>sf_eq</th>\n",
              "      <th>sf_act</th>\n",
              "      <th>P_cpu_DVS</th>\n",
              "      <th>AET_cpu_DVS</th>\n",
              "      <th>E_cpu_DVS</th>\n",
              "    </tr>\n",
              "  </thead>\n",
              "  <tbody>\n",
              "    <tr>\n",
              "      <th>0</th>\n",
              "      <td>Task 2</td>\n",
              "      <td>50</td>\n",
              "      <td>45</td>\n",
              "      <td>33.75</td>\n",
              "      <td>102.0</td>\n",
              "      <td>2.44</td>\n",
              "      <td>1.12</td>\n",
              "      <td>1.12</td>\n",
              "      <td>265.97</td>\n",
              "      <td>37.80</td>\n",
              "      <td>10053.80</td>\n",
              "    </tr>\n",
              "    <tr>\n",
              "      <th>1</th>\n",
              "      <td>Task 4</td>\n",
              "      <td>70</td>\n",
              "      <td>20</td>\n",
              "      <td>15.00</td>\n",
              "      <td>150.0</td>\n",
              "      <td>2.44</td>\n",
              "      <td>1.04</td>\n",
              "      <td>1.04</td>\n",
              "      <td>336.12</td>\n",
              "      <td>15.60</td>\n",
              "      <td>5243.54</td>\n",
              "    </tr>\n",
              "    <tr>\n",
              "      <th>2</th>\n",
              "      <td>Task 1</td>\n",
              "      <td>100</td>\n",
              "      <td>40</td>\n",
              "      <td>30.00</td>\n",
              "      <td>152.0</td>\n",
              "      <td>2.44</td>\n",
              "      <td>1.03</td>\n",
              "      <td>1.03</td>\n",
              "      <td>341.39</td>\n",
              "      <td>30.90</td>\n",
              "      <td>10549.03</td>\n",
              "    </tr>\n",
              "    <tr>\n",
              "      <th>3</th>\n",
              "      <td>Task 3</td>\n",
              "      <td>110</td>\n",
              "      <td>30</td>\n",
              "      <td>22.50</td>\n",
              "      <td>1.0</td>\n",
              "      <td>2.44</td>\n",
              "      <td>1.49</td>\n",
              "      <td>1.49</td>\n",
              "      <td>113.79</td>\n",
              "      <td>33.52</td>\n",
              "      <td>3814.77</td>\n",
              "    </tr>\n",
              "  </tbody>\n",
              "</table>\n",
              "</div>\n",
              "      <button class=\"colab-df-convert\" onclick=\"convertToInteractive('df-e3ba8b8f-f5e9-4497-9361-956a39f25b56')\"\n",
              "              title=\"Convert this dataframe to an interactive table.\"\n",
              "              style=\"display:none;\">\n",
              "        \n",
              "  <svg xmlns=\"http://www.w3.org/2000/svg\" height=\"24px\"viewBox=\"0 0 24 24\"\n",
              "       width=\"24px\">\n",
              "    <path d=\"M0 0h24v24H0V0z\" fill=\"none\"/>\n",
              "    <path d=\"M18.56 5.44l.94 2.06.94-2.06 2.06-.94-2.06-.94-.94-2.06-.94 2.06-2.06.94zm-11 1L8.5 8.5l.94-2.06 2.06-.94-2.06-.94L8.5 2.5l-.94 2.06-2.06.94zm10 10l.94 2.06.94-2.06 2.06-.94-2.06-.94-.94-2.06-.94 2.06-2.06.94z\"/><path d=\"M17.41 7.96l-1.37-1.37c-.4-.4-.92-.59-1.43-.59-.52 0-1.04.2-1.43.59L10.3 9.45l-7.72 7.72c-.78.78-.78 2.05 0 2.83L4 21.41c.39.39.9.59 1.41.59.51 0 1.02-.2 1.41-.59l7.78-7.78 2.81-2.81c.8-.78.8-2.07 0-2.86zM5.41 20L4 18.59l7.72-7.72 1.47 1.35L5.41 20z\"/>\n",
              "  </svg>\n",
              "      </button>\n",
              "      \n",
              "  <style>\n",
              "    .colab-df-container {\n",
              "      display:flex;\n",
              "      flex-wrap:wrap;\n",
              "      gap: 12px;\n",
              "    }\n",
              "\n",
              "    .colab-df-convert {\n",
              "      background-color: #E8F0FE;\n",
              "      border: none;\n",
              "      border-radius: 50%;\n",
              "      cursor: pointer;\n",
              "      display: none;\n",
              "      fill: #1967D2;\n",
              "      height: 32px;\n",
              "      padding: 0 0 0 0;\n",
              "      width: 32px;\n",
              "    }\n",
              "\n",
              "    .colab-df-convert:hover {\n",
              "      background-color: #E2EBFA;\n",
              "      box-shadow: 0px 1px 2px rgba(60, 64, 67, 0.3), 0px 1px 3px 1px rgba(60, 64, 67, 0.15);\n",
              "      fill: #174EA6;\n",
              "    }\n",
              "\n",
              "    [theme=dark] .colab-df-convert {\n",
              "      background-color: #3B4455;\n",
              "      fill: #D2E3FC;\n",
              "    }\n",
              "\n",
              "    [theme=dark] .colab-df-convert:hover {\n",
              "      background-color: #434B5C;\n",
              "      box-shadow: 0px 1px 3px 1px rgba(0, 0, 0, 0.15);\n",
              "      filter: drop-shadow(0px 1px 2px rgba(0, 0, 0, 0.3));\n",
              "      fill: #FFFFFF;\n",
              "    }\n",
              "  </style>\n",
              "\n",
              "      <script>\n",
              "        const buttonEl =\n",
              "          document.querySelector('#df-e3ba8b8f-f5e9-4497-9361-956a39f25b56 button.colab-df-convert');\n",
              "        buttonEl.style.display =\n",
              "          google.colab.kernel.accessAllowed ? 'block' : 'none';\n",
              "\n",
              "        async function convertToInteractive(key) {\n",
              "          const element = document.querySelector('#df-e3ba8b8f-f5e9-4497-9361-956a39f25b56');\n",
              "          const dataTable =\n",
              "            await google.colab.kernel.invokeFunction('convertToInteractive',\n",
              "                                                     [key], {});\n",
              "          if (!dataTable) return;\n",
              "\n",
              "          const docLinkHtml = 'Like what you see? Visit the ' +\n",
              "            '<a target=\"_blank\" href=https://colab.research.google.com/notebooks/data_table.ipynb>data table notebook</a>'\n",
              "            + ' to learn more about interactive tables.';\n",
              "          element.innerHTML = '';\n",
              "          dataTable['output_type'] = 'display_data';\n",
              "          await google.colab.output.renderOutput(dataTable, element);\n",
              "          const docLink = document.createElement('div');\n",
              "          docLink.innerHTML = docLinkHtml;\n",
              "          element.appendChild(docLink);\n",
              "        }\n",
              "      </script>\n",
              "    </div>\n",
              "  </div>\n",
              "  "
            ]
          },
          "metadata": {}
        }
      ]
    },
    {
      "cell_type": "markdown",
      "source": [
        "##No DVS or DPM"
      ],
      "metadata": {
        "id": "ScAlLU5xt5p4"
      }
    },
    {
      "cell_type": "code",
      "source": [
        "max_device_power = 0\n",
        "for device in [\"Device 1\", \"Device 2\", \"Device 3\"]:\n",
        "    max_device_power += power_usage[device]['active']"
      ],
      "metadata": {
        "id": "ngJBNgJRt-3k"
      },
      "execution_count": null,
      "outputs": []
    },
    {
      "cell_type": "code",
      "source": [
        "df_max = df_sch_tasks[['name','deadline','WCET','AET']]\n",
        "df_max['max_freq'] = 1\n",
        "df_max['max_cpu_power'] = P_dyn_1 + P_static\n",
        "df_max['max_device_power'] = max_device_power\n",
        "df_max['total_max_power'] = df_max['max_cpu_power'] + df_max['max_device_power']\n",
        "df_max['E_max'] = (df_max['total_max_power'])*df_max['AET']"
      ],
      "metadata": {
        "colab": {
          "base_uri": "https://localhost:8080/"
        },
        "id": "DmKs5t9ZvmZJ",
        "outputId": "995d5ff6-aed6-440f-dd37-4e94548b0d9e"
      },
      "execution_count": null,
      "outputs": [
        {
          "output_type": "stream",
          "name": "stderr",
          "text": [
            "<ipython-input-15-f39adf3280e2>:2: SettingWithCopyWarning: \n",
            "A value is trying to be set on a copy of a slice from a DataFrame.\n",
            "Try using .loc[row_indexer,col_indexer] = value instead\n",
            "\n",
            "See the caveats in the documentation: https://pandas.pydata.org/pandas-docs/stable/user_guide/indexing.html#returning-a-view-versus-a-copy\n",
            "  df_max['max_freq'] = 1\n",
            "<ipython-input-15-f39adf3280e2>:3: SettingWithCopyWarning: \n",
            "A value is trying to be set on a copy of a slice from a DataFrame.\n",
            "Try using .loc[row_indexer,col_indexer] = value instead\n",
            "\n",
            "See the caveats in the documentation: https://pandas.pydata.org/pandas-docs/stable/user_guide/indexing.html#returning-a-view-versus-a-copy\n",
            "  df_max['max_cpu_power'] = P_dyn_1 + P_static\n",
            "<ipython-input-15-f39adf3280e2>:4: SettingWithCopyWarning: \n",
            "A value is trying to be set on a copy of a slice from a DataFrame.\n",
            "Try using .loc[row_indexer,col_indexer] = value instead\n",
            "\n",
            "See the caveats in the documentation: https://pandas.pydata.org/pandas-docs/stable/user_guide/indexing.html#returning-a-view-versus-a-copy\n",
            "  df_max['max_device_power'] = max_device_power\n",
            "<ipython-input-15-f39adf3280e2>:5: SettingWithCopyWarning: \n",
            "A value is trying to be set on a copy of a slice from a DataFrame.\n",
            "Try using .loc[row_indexer,col_indexer] = value instead\n",
            "\n",
            "See the caveats in the documentation: https://pandas.pydata.org/pandas-docs/stable/user_guide/indexing.html#returning-a-view-versus-a-copy\n",
            "  df_max['total_max_power'] = df_max['max_cpu_power'] + df_max['max_device_power']\n",
            "<ipython-input-15-f39adf3280e2>:6: SettingWithCopyWarning: \n",
            "A value is trying to be set on a copy of a slice from a DataFrame.\n",
            "Try using .loc[row_indexer,col_indexer] = value instead\n",
            "\n",
            "See the caveats in the documentation: https://pandas.pydata.org/pandas-docs/stable/user_guide/indexing.html#returning-a-view-versus-a-copy\n",
            "  df_max['E_max'] = (df_max['total_max_power'])*df_max['AET']\n"
          ]
        }
      ]
    },
    {
      "cell_type": "code",
      "source": [
        "display(df_max)"
      ],
      "metadata": {
        "colab": {
          "base_uri": "https://localhost:8080/"
        },
        "id": "Qdi0Szbvw3_r",
        "outputId": "df19d4d9-7129-441e-961a-5ded4b7975c6"
      },
      "execution_count": null,
      "outputs": [
        {
          "output_type": "display_data",
          "data": {
            "text/plain": [
              "     name  deadline  WCET    AET  max_freq  max_cpu_power  max_device_power  \\\n",
              "0  Task 2        50    45  33.75         1            200               152   \n",
              "1  Task 4        70    20  15.00         1            200               152   \n",
              "2  Task 1       100    40  30.00         1            200               152   \n",
              "3  Task 3       110    30  22.50         1            200               152   \n",
              "\n",
              "   total_max_power    E_max  \n",
              "0              352  11880.0  \n",
              "1              352   5280.0  \n",
              "2              352  10560.0  \n",
              "3              352   7920.0  "
            ],
            "text/html": [
              "\n",
              "  <div id=\"df-6b6f5033-05f9-4827-b525-25013526ea40\">\n",
              "    <div class=\"colab-df-container\">\n",
              "      <div>\n",
              "<style scoped>\n",
              "    .dataframe tbody tr th:only-of-type {\n",
              "        vertical-align: middle;\n",
              "    }\n",
              "\n",
              "    .dataframe tbody tr th {\n",
              "        vertical-align: top;\n",
              "    }\n",
              "\n",
              "    .dataframe thead th {\n",
              "        text-align: right;\n",
              "    }\n",
              "</style>\n",
              "<table border=\"1\" class=\"dataframe\">\n",
              "  <thead>\n",
              "    <tr style=\"text-align: right;\">\n",
              "      <th></th>\n",
              "      <th>name</th>\n",
              "      <th>deadline</th>\n",
              "      <th>WCET</th>\n",
              "      <th>AET</th>\n",
              "      <th>max_freq</th>\n",
              "      <th>max_cpu_power</th>\n",
              "      <th>max_device_power</th>\n",
              "      <th>total_max_power</th>\n",
              "      <th>E_max</th>\n",
              "    </tr>\n",
              "  </thead>\n",
              "  <tbody>\n",
              "    <tr>\n",
              "      <th>0</th>\n",
              "      <td>Task 2</td>\n",
              "      <td>50</td>\n",
              "      <td>45</td>\n",
              "      <td>33.75</td>\n",
              "      <td>1</td>\n",
              "      <td>200</td>\n",
              "      <td>152</td>\n",
              "      <td>352</td>\n",
              "      <td>11880.0</td>\n",
              "    </tr>\n",
              "    <tr>\n",
              "      <th>1</th>\n",
              "      <td>Task 4</td>\n",
              "      <td>70</td>\n",
              "      <td>20</td>\n",
              "      <td>15.00</td>\n",
              "      <td>1</td>\n",
              "      <td>200</td>\n",
              "      <td>152</td>\n",
              "      <td>352</td>\n",
              "      <td>5280.0</td>\n",
              "    </tr>\n",
              "    <tr>\n",
              "      <th>2</th>\n",
              "      <td>Task 1</td>\n",
              "      <td>100</td>\n",
              "      <td>40</td>\n",
              "      <td>30.00</td>\n",
              "      <td>1</td>\n",
              "      <td>200</td>\n",
              "      <td>152</td>\n",
              "      <td>352</td>\n",
              "      <td>10560.0</td>\n",
              "    </tr>\n",
              "    <tr>\n",
              "      <th>3</th>\n",
              "      <td>Task 3</td>\n",
              "      <td>110</td>\n",
              "      <td>30</td>\n",
              "      <td>22.50</td>\n",
              "      <td>1</td>\n",
              "      <td>200</td>\n",
              "      <td>152</td>\n",
              "      <td>352</td>\n",
              "      <td>7920.0</td>\n",
              "    </tr>\n",
              "  </tbody>\n",
              "</table>\n",
              "</div>\n",
              "      <button class=\"colab-df-convert\" onclick=\"convertToInteractive('df-6b6f5033-05f9-4827-b525-25013526ea40')\"\n",
              "              title=\"Convert this dataframe to an interactive table.\"\n",
              "              style=\"display:none;\">\n",
              "        \n",
              "  <svg xmlns=\"http://www.w3.org/2000/svg\" height=\"24px\"viewBox=\"0 0 24 24\"\n",
              "       width=\"24px\">\n",
              "    <path d=\"M0 0h24v24H0V0z\" fill=\"none\"/>\n",
              "    <path d=\"M18.56 5.44l.94 2.06.94-2.06 2.06-.94-2.06-.94-.94-2.06-.94 2.06-2.06.94zm-11 1L8.5 8.5l.94-2.06 2.06-.94-2.06-.94L8.5 2.5l-.94 2.06-2.06.94zm10 10l.94 2.06.94-2.06 2.06-.94-2.06-.94-.94-2.06-.94 2.06-2.06.94z\"/><path d=\"M17.41 7.96l-1.37-1.37c-.4-.4-.92-.59-1.43-.59-.52 0-1.04.2-1.43.59L10.3 9.45l-7.72 7.72c-.78.78-.78 2.05 0 2.83L4 21.41c.39.39.9.59 1.41.59.51 0 1.02-.2 1.41-.59l7.78-7.78 2.81-2.81c.8-.78.8-2.07 0-2.86zM5.41 20L4 18.59l7.72-7.72 1.47 1.35L5.41 20z\"/>\n",
              "  </svg>\n",
              "      </button>\n",
              "      \n",
              "  <style>\n",
              "    .colab-df-container {\n",
              "      display:flex;\n",
              "      flex-wrap:wrap;\n",
              "      gap: 12px;\n",
              "    }\n",
              "\n",
              "    .colab-df-convert {\n",
              "      background-color: #E8F0FE;\n",
              "      border: none;\n",
              "      border-radius: 50%;\n",
              "      cursor: pointer;\n",
              "      display: none;\n",
              "      fill: #1967D2;\n",
              "      height: 32px;\n",
              "      padding: 0 0 0 0;\n",
              "      width: 32px;\n",
              "    }\n",
              "\n",
              "    .colab-df-convert:hover {\n",
              "      background-color: #E2EBFA;\n",
              "      box-shadow: 0px 1px 2px rgba(60, 64, 67, 0.3), 0px 1px 3px 1px rgba(60, 64, 67, 0.15);\n",
              "      fill: #174EA6;\n",
              "    }\n",
              "\n",
              "    [theme=dark] .colab-df-convert {\n",
              "      background-color: #3B4455;\n",
              "      fill: #D2E3FC;\n",
              "    }\n",
              "\n",
              "    [theme=dark] .colab-df-convert:hover {\n",
              "      background-color: #434B5C;\n",
              "      box-shadow: 0px 1px 3px 1px rgba(0, 0, 0, 0.15);\n",
              "      filter: drop-shadow(0px 1px 2px rgba(0, 0, 0, 0.3));\n",
              "      fill: #FFFFFF;\n",
              "    }\n",
              "  </style>\n",
              "\n",
              "      <script>\n",
              "        const buttonEl =\n",
              "          document.querySelector('#df-6b6f5033-05f9-4827-b525-25013526ea40 button.colab-df-convert');\n",
              "        buttonEl.style.display =\n",
              "          google.colab.kernel.accessAllowed ? 'block' : 'none';\n",
              "\n",
              "        async function convertToInteractive(key) {\n",
              "          const element = document.querySelector('#df-6b6f5033-05f9-4827-b525-25013526ea40');\n",
              "          const dataTable =\n",
              "            await google.colab.kernel.invokeFunction('convertToInteractive',\n",
              "                                                     [key], {});\n",
              "          if (!dataTable) return;\n",
              "\n",
              "          const docLinkHtml = 'Like what you see? Visit the ' +\n",
              "            '<a target=\"_blank\" href=https://colab.research.google.com/notebooks/data_table.ipynb>data table notebook</a>'\n",
              "            + ' to learn more about interactive tables.';\n",
              "          element.innerHTML = '';\n",
              "          dataTable['output_type'] = 'display_data';\n",
              "          await google.colab.output.renderOutput(dataTable, element);\n",
              "          const docLink = document.createElement('div');\n",
              "          docLink.innerHTML = docLinkHtml;\n",
              "          element.appendChild(docLink);\n",
              "        }\n",
              "      </script>\n",
              "    </div>\n",
              "  </div>\n",
              "  "
            ]
          },
          "metadata": {}
        }
      ]
    },
    {
      "cell_type": "markdown",
      "source": [
        "##plot"
      ],
      "metadata": {
        "id": "vGpxfWV60UwE"
      }
    },
    {
      "cell_type": "code",
      "source": [
        "df_plot = df_max[['name', 'WCET', 'AET','max_freq','E_max']]\n",
        "df_plot['AET_dvs_dpm'] = df_task_dvs['AET_cpu_DVS']\n",
        "df_plot['freq_dvs_dpm'] = 1/df_task_dvs['sf_act']\n",
        "df_plot['E_dvs_dpm'] = df_task_dvs['E_cpu_DVS']\n",
        "\n",
        "\n",
        "df_plot['max_freq_start_time'] = df_plot['AET'].cumsum()-df_plot['AET']\n",
        "df_plot['dvs_dpm_start_time'] = df_plot['AET_dvs_dpm'].cumsum()-df_plot['AET_dvs_dpm']\n",
        "df_plot = df_plot.round(2)"
      ],
      "metadata": {
        "id": "Q_9KXu4s0V0X"
      },
      "execution_count": null,
      "outputs": []
    },
    {
      "cell_type": "code",
      "source": [
        "display(df_plot)"
      ],
      "metadata": {
        "colab": {
          "base_uri": "https://localhost:8080/",
          "height": 175
        },
        "id": "zAWdj36F1PYT",
        "outputId": "47f014ed-7cd9-4ac3-f3da-fb3b50d86b61"
      },
      "execution_count": null,
      "outputs": [
        {
          "output_type": "display_data",
          "data": {
            "text/plain": [
              "     name  WCET    AET  max_freq    E_max  AET_dvs_dpm  freq_dvs_dpm  \\\n",
              "0  Task 2    45  33.75         1  11880.0        37.80          0.89   \n",
              "1  Task 4    20  15.00         1   5280.0        15.60          0.96   \n",
              "2  Task 1    40  30.00         1  10560.0        30.90          0.97   \n",
              "3  Task 3    30  22.50         1   7920.0        33.52          0.67   \n",
              "\n",
              "   E_dvs_dpm  max_freq_start_time  dvs_dpm_start_time  \n",
              "0   10053.80                 0.00                 0.0  \n",
              "1    5243.54                33.75                37.8  \n",
              "2   10549.03                48.75                53.4  \n",
              "3    3814.77                78.75                84.3  "
            ],
            "text/html": [
              "\n",
              "  <div id=\"df-52eb7b15-0317-4bd5-b84c-a2293fba8eac\">\n",
              "    <div class=\"colab-df-container\">\n",
              "      <div>\n",
              "<style scoped>\n",
              "    .dataframe tbody tr th:only-of-type {\n",
              "        vertical-align: middle;\n",
              "    }\n",
              "\n",
              "    .dataframe tbody tr th {\n",
              "        vertical-align: top;\n",
              "    }\n",
              "\n",
              "    .dataframe thead th {\n",
              "        text-align: right;\n",
              "    }\n",
              "</style>\n",
              "<table border=\"1\" class=\"dataframe\">\n",
              "  <thead>\n",
              "    <tr style=\"text-align: right;\">\n",
              "      <th></th>\n",
              "      <th>name</th>\n",
              "      <th>WCET</th>\n",
              "      <th>AET</th>\n",
              "      <th>max_freq</th>\n",
              "      <th>E_max</th>\n",
              "      <th>AET_dvs_dpm</th>\n",
              "      <th>freq_dvs_dpm</th>\n",
              "      <th>E_dvs_dpm</th>\n",
              "      <th>max_freq_start_time</th>\n",
              "      <th>dvs_dpm_start_time</th>\n",
              "    </tr>\n",
              "  </thead>\n",
              "  <tbody>\n",
              "    <tr>\n",
              "      <th>0</th>\n",
              "      <td>Task 2</td>\n",
              "      <td>45</td>\n",
              "      <td>33.75</td>\n",
              "      <td>1</td>\n",
              "      <td>11880.0</td>\n",
              "      <td>37.80</td>\n",
              "      <td>0.89</td>\n",
              "      <td>10053.80</td>\n",
              "      <td>0.00</td>\n",
              "      <td>0.0</td>\n",
              "    </tr>\n",
              "    <tr>\n",
              "      <th>1</th>\n",
              "      <td>Task 4</td>\n",
              "      <td>20</td>\n",
              "      <td>15.00</td>\n",
              "      <td>1</td>\n",
              "      <td>5280.0</td>\n",
              "      <td>15.60</td>\n",
              "      <td>0.96</td>\n",
              "      <td>5243.54</td>\n",
              "      <td>33.75</td>\n",
              "      <td>37.8</td>\n",
              "    </tr>\n",
              "    <tr>\n",
              "      <th>2</th>\n",
              "      <td>Task 1</td>\n",
              "      <td>40</td>\n",
              "      <td>30.00</td>\n",
              "      <td>1</td>\n",
              "      <td>10560.0</td>\n",
              "      <td>30.90</td>\n",
              "      <td>0.97</td>\n",
              "      <td>10549.03</td>\n",
              "      <td>48.75</td>\n",
              "      <td>53.4</td>\n",
              "    </tr>\n",
              "    <tr>\n",
              "      <th>3</th>\n",
              "      <td>Task 3</td>\n",
              "      <td>30</td>\n",
              "      <td>22.50</td>\n",
              "      <td>1</td>\n",
              "      <td>7920.0</td>\n",
              "      <td>33.52</td>\n",
              "      <td>0.67</td>\n",
              "      <td>3814.77</td>\n",
              "      <td>78.75</td>\n",
              "      <td>84.3</td>\n",
              "    </tr>\n",
              "  </tbody>\n",
              "</table>\n",
              "</div>\n",
              "      <button class=\"colab-df-convert\" onclick=\"convertToInteractive('df-52eb7b15-0317-4bd5-b84c-a2293fba8eac')\"\n",
              "              title=\"Convert this dataframe to an interactive table.\"\n",
              "              style=\"display:none;\">\n",
              "        \n",
              "  <svg xmlns=\"http://www.w3.org/2000/svg\" height=\"24px\"viewBox=\"0 0 24 24\"\n",
              "       width=\"24px\">\n",
              "    <path d=\"M0 0h24v24H0V0z\" fill=\"none\"/>\n",
              "    <path d=\"M18.56 5.44l.94 2.06.94-2.06 2.06-.94-2.06-.94-.94-2.06-.94 2.06-2.06.94zm-11 1L8.5 8.5l.94-2.06 2.06-.94-2.06-.94L8.5 2.5l-.94 2.06-2.06.94zm10 10l.94 2.06.94-2.06 2.06-.94-2.06-.94-.94-2.06-.94 2.06-2.06.94z\"/><path d=\"M17.41 7.96l-1.37-1.37c-.4-.4-.92-.59-1.43-.59-.52 0-1.04.2-1.43.59L10.3 9.45l-7.72 7.72c-.78.78-.78 2.05 0 2.83L4 21.41c.39.39.9.59 1.41.59.51 0 1.02-.2 1.41-.59l7.78-7.78 2.81-2.81c.8-.78.8-2.07 0-2.86zM5.41 20L4 18.59l7.72-7.72 1.47 1.35L5.41 20z\"/>\n",
              "  </svg>\n",
              "      </button>\n",
              "      \n",
              "  <style>\n",
              "    .colab-df-container {\n",
              "      display:flex;\n",
              "      flex-wrap:wrap;\n",
              "      gap: 12px;\n",
              "    }\n",
              "\n",
              "    .colab-df-convert {\n",
              "      background-color: #E8F0FE;\n",
              "      border: none;\n",
              "      border-radius: 50%;\n",
              "      cursor: pointer;\n",
              "      display: none;\n",
              "      fill: #1967D2;\n",
              "      height: 32px;\n",
              "      padding: 0 0 0 0;\n",
              "      width: 32px;\n",
              "    }\n",
              "\n",
              "    .colab-df-convert:hover {\n",
              "      background-color: #E2EBFA;\n",
              "      box-shadow: 0px 1px 2px rgba(60, 64, 67, 0.3), 0px 1px 3px 1px rgba(60, 64, 67, 0.15);\n",
              "      fill: #174EA6;\n",
              "    }\n",
              "\n",
              "    [theme=dark] .colab-df-convert {\n",
              "      background-color: #3B4455;\n",
              "      fill: #D2E3FC;\n",
              "    }\n",
              "\n",
              "    [theme=dark] .colab-df-convert:hover {\n",
              "      background-color: #434B5C;\n",
              "      box-shadow: 0px 1px 3px 1px rgba(0, 0, 0, 0.15);\n",
              "      filter: drop-shadow(0px 1px 2px rgba(0, 0, 0, 0.3));\n",
              "      fill: #FFFFFF;\n",
              "    }\n",
              "  </style>\n",
              "\n",
              "      <script>\n",
              "        const buttonEl =\n",
              "          document.querySelector('#df-52eb7b15-0317-4bd5-b84c-a2293fba8eac button.colab-df-convert');\n",
              "        buttonEl.style.display =\n",
              "          google.colab.kernel.accessAllowed ? 'block' : 'none';\n",
              "\n",
              "        async function convertToInteractive(key) {\n",
              "          const element = document.querySelector('#df-52eb7b15-0317-4bd5-b84c-a2293fba8eac');\n",
              "          const dataTable =\n",
              "            await google.colab.kernel.invokeFunction('convertToInteractive',\n",
              "                                                     [key], {});\n",
              "          if (!dataTable) return;\n",
              "\n",
              "          const docLinkHtml = 'Like what you see? Visit the ' +\n",
              "            '<a target=\"_blank\" href=https://colab.research.google.com/notebooks/data_table.ipynb>data table notebook</a>'\n",
              "            + ' to learn more about interactive tables.';\n",
              "          element.innerHTML = '';\n",
              "          dataTable['output_type'] = 'display_data';\n",
              "          await google.colab.output.renderOutput(dataTable, element);\n",
              "          const docLink = document.createElement('div');\n",
              "          docLink.innerHTML = docLinkHtml;\n",
              "          element.appendChild(docLink);\n",
              "        }\n",
              "      </script>\n",
              "    </div>\n",
              "  </div>\n",
              "  "
            ]
          },
          "metadata": {}
        }
      ]
    },
    {
      "cell_type": "code",
      "source": [
        "titles = df_plot['name']\n",
        "xmax = df_plot['AET_dvs_dpm'].sum()+10\n",
        "\n",
        "ax1x = df_plot['max_freq_start_time'].tolist()\n",
        "ax1y = df_plot['max_freq'].tolist()\n",
        "ax1w = df_plot['AET'].tolist()\n",
        "ax1title = 'Task profile of non-DPM_DVS schedule (E=100%)'\n",
        "ax1_color = [(r,r,r) for r in np.linspace(0, 1, len(ax1w))]\n",
        "\n",
        "ax2x = df_plot['dvs_dpm_start_time'].tolist()\n",
        "ax2y = df_plot['freq_dvs_dpm'].tolist()\n",
        "ax2w = df_plot['AET_dvs_dpm'].tolist()\n",
        "ax2title = 'Task profile of DVS_DPM schedule (E='+ str(round((df_plot['E_dvs_dpm'].sum()/df_plot['E_max'].sum()*100),2)) +'%)'\n",
        "ax2_color = [(r,r,r) for r in np.linspace(0, 1, len(ax2w))]"
      ],
      "metadata": {
        "id": "U-C9QRAj64LD"
      },
      "execution_count": null,
      "outputs": []
    },
    {
      "cell_type": "code",
      "source": [
        "import matplotlib.pyplot as plt\n",
        "plt.rcParams['figure.figsize'] = (30, 17.5)\n",
        "plt.rcParams['font.size'] = 25"
      ],
      "metadata": {
        "id": "2zrW_xUq9H5A"
      },
      "execution_count": null,
      "outputs": []
    },
    {
      "cell_type": "code",
      "source": [
        "fig, [ax1,ax2] = plt.subplots(2, 1)\n",
        "fig.tight_layout(pad=5)\n",
        "for i in range(len(ax1x)):\n",
        "    ax1.bar(ax1x[i], ax1y[i], label=titles[i], align = 'edge', width = ax1w[i], color = ax1_color[i],edgecolor='k',zorder=3)\n",
        "ax1.set(xlabel = 'Time_s', ylabel = 'Normalised_freq',xlim = (-2.5,xmax), ylim = (0,1.2), title = ax1title)\n",
        "for i in range(len(ax1x)):\n",
        "    ax2.bar(ax2x[i], ax2y[i], label=titles[i], align = 'edge', width = ax2w[i], color = ax2_color[i],edgecolor='k',zorder=3)\n",
        "ax2.set(xlabel = 'Time_s', ylabel = 'Normalised_freq',xlim = (-2.5,xmax), ylim = (0,1.2), title = ax2title)\n",
        "ax1.legend()\n",
        "ax2.legend()\n",
        "ax1.grid(zorder=0)\n",
        "ax2.grid(zorder=0)"
      ],
      "metadata": {
        "colab": {
          "base_uri": "https://localhost:8080/",
          "height": 765
        },
        "id": "zmBoNjIw8zrJ",
        "outputId": "be9b0cd6-f815-4220-f152-a7ab7c9df18b"
      },
      "execution_count": null,
      "outputs": [
        {
          "output_type": "display_data",
          "data": {
            "text/plain": [
              "<Figure size 2160x1260 with 2 Axes>"
            ],
            "image/png": "[encoded data removed]"
          },
          "metadata": {
            "needs_background": "light"
          }
        }
      ]
    },
    {
      "cell_type": "code",
      "source": [
        "df_plot_dev = df_sch_tasks[['Device 1','Device 2','Device 3']]\n",
        "df_plot_dev = df_plot_dev.set_index(df_sch_tasks['name'])\n",
        "df_plot_dev = df_plot_dev.replace(['active','idle','off'],[3,2,1])"
      ],
      "metadata": {
        "id": "yvcRhmU_Tc5c"
      },
      "execution_count": null,
      "outputs": []
    },
    {
      "cell_type": "code",
      "source": [
        "display(df_plot_dev)"
      ],
      "metadata": {
        "colab": {
          "base_uri": "https://localhost:8080/",
          "height": 206
        },
        "id": "p4ade6tHTlC7",
        "outputId": "ceafb455-ca6f-40bb-d9c7-43d0e070461d"
      },
      "execution_count": null,
      "outputs": [
        {
          "output_type": "display_data",
          "data": {
            "text/plain": [
              "        Device 1  Device 2  Device 3\n",
              "name                                \n",
              "Task 2         2         3         2\n",
              "Task 4         3         3         1\n",
              "Task 1         3         3         3\n",
              "Task 3         1         2         2"
            ],
            "text/html": [
              "\n",
              "  <div id=\"df-61a79fec-eec1-42ff-b461-d53c0019a425\">\n",
              "    <div class=\"colab-df-container\">\n",
              "      <div>\n",
              "<style scoped>\n",
              "    .dataframe tbody tr th:only-of-type {\n",
              "        vertical-align: middle;\n",
              "    }\n",
              "\n",
              "    .dataframe tbody tr th {\n",
              "        vertical-align: top;\n",
              "    }\n",
              "\n",
              "    .dataframe thead th {\n",
              "        text-align: right;\n",
              "    }\n",
              "</style>\n",
              "<table border=\"1\" class=\"dataframe\">\n",
              "  <thead>\n",
              "    <tr style=\"text-align: right;\">\n",
              "      <th></th>\n",
              "      <th>Device 1</th>\n",
              "      <th>Device 2</th>\n",
              "      <th>Device 3</th>\n",
              "    </tr>\n",
              "    <tr>\n",
              "      <th>name</th>\n",
              "      <th></th>\n",
              "      <th></th>\n",
              "      <th></th>\n",
              "    </tr>\n",
              "  </thead>\n",
              "  <tbody>\n",
              "    <tr>\n",
              "      <th>Task 2</th>\n",
              "      <td>2</td>\n",
              "      <td>3</td>\n",
              "      <td>2</td>\n",
              "    </tr>\n",
              "    <tr>\n",
              "      <th>Task 4</th>\n",
              "      <td>3</td>\n",
              "      <td>3</td>\n",
              "      <td>1</td>\n",
              "    </tr>\n",
              "    <tr>\n",
              "      <th>Task 1</th>\n",
              "      <td>3</td>\n",
              "      <td>3</td>\n",
              "      <td>3</td>\n",
              "    </tr>\n",
              "    <tr>\n",
              "      <th>Task 3</th>\n",
              "      <td>1</td>\n",
              "      <td>2</td>\n",
              "      <td>2</td>\n",
              "    </tr>\n",
              "  </tbody>\n",
              "</table>\n",
              "</div>\n",
              "      <button class=\"colab-df-convert\" onclick=\"convertToInteractive('df-61a79fec-eec1-42ff-b461-d53c0019a425')\"\n",
              "              title=\"Convert this dataframe to an interactive table.\"\n",
              "              style=\"display:none;\">\n",
              "        \n",
              "  <svg xmlns=\"http://www.w3.org/2000/svg\" height=\"24px\"viewBox=\"0 0 24 24\"\n",
              "       width=\"24px\">\n",
              "    <path d=\"M0 0h24v24H0V0z\" fill=\"none\"/>\n",
              "    <path d=\"M18.56 5.44l.94 2.06.94-2.06 2.06-.94-2.06-.94-.94-2.06-.94 2.06-2.06.94zm-11 1L8.5 8.5l.94-2.06 2.06-.94-2.06-.94L8.5 2.5l-.94 2.06-2.06.94zm10 10l.94 2.06.94-2.06 2.06-.94-2.06-.94-.94-2.06-.94 2.06-2.06.94z\"/><path d=\"M17.41 7.96l-1.37-1.37c-.4-.4-.92-.59-1.43-.59-.52 0-1.04.2-1.43.59L10.3 9.45l-7.72 7.72c-.78.78-.78 2.05 0 2.83L4 21.41c.39.39.9.59 1.41.59.51 0 1.02-.2 1.41-.59l7.78-7.78 2.81-2.81c.8-.78.8-2.07 0-2.86zM5.41 20L4 18.59l7.72-7.72 1.47 1.35L5.41 20z\"/>\n",
              "  </svg>\n",
              "      </button>\n",
              "      \n",
              "  <style>\n",
              "    .colab-df-container {\n",
              "      display:flex;\n",
              "      flex-wrap:wrap;\n",
              "      gap: 12px;\n",
              "    }\n",
              "\n",
              "    .colab-df-convert {\n",
              "      background-color: #E8F0FE;\n",
              "      border: none;\n",
              "      border-radius: 50%;\n",
              "      cursor: pointer;\n",
              "      display: none;\n",
              "      fill: #1967D2;\n",
              "      height: 32px;\n",
              "      padding: 0 0 0 0;\n",
              "      width: 32px;\n",
              "    }\n",
              "\n",
              "    .colab-df-convert:hover {\n",
              "      background-color: #E2EBFA;\n",
              "      box-shadow: 0px 1px 2px rgba(60, 64, 67, 0.3), 0px 1px 3px 1px rgba(60, 64, 67, 0.15);\n",
              "      fill: #174EA6;\n",
              "    }\n",
              "\n",
              "    [theme=dark] .colab-df-convert {\n",
              "      background-color: #3B4455;\n",
              "      fill: #D2E3FC;\n",
              "    }\n",
              "\n",
              "    [theme=dark] .colab-df-convert:hover {\n",
              "      background-color: #434B5C;\n",
              "      box-shadow: 0px 1px 3px 1px rgba(0, 0, 0, 0.15);\n",
              "      filter: drop-shadow(0px 1px 2px rgba(0, 0, 0, 0.3));\n",
              "      fill: #FFFFFF;\n",
              "    }\n",
              "  </style>\n",
              "\n",
              "      <script>\n",
              "        const buttonEl =\n",
              "          document.querySelector('#df-61a79fec-eec1-42ff-b461-d53c0019a425 button.colab-df-convert');\n",
              "        buttonEl.style.display =\n",
              "          google.colab.kernel.accessAllowed ? 'block' : 'none';\n",
              "\n",
              "        async function convertToInteractive(key) {\n",
              "          const element = document.querySelector('#df-61a79fec-eec1-42ff-b461-d53c0019a425');\n",
              "          const dataTable =\n",
              "            await google.colab.kernel.invokeFunction('convertToInteractive',\n",
              "                                                     [key], {});\n",
              "          if (!dataTable) return;\n",
              "\n",
              "          const docLinkHtml = 'Like what you see? Visit the ' +\n",
              "            '<a target=\"_blank\" href=https://colab.research.google.com/notebooks/data_table.ipynb>data table notebook</a>'\n",
              "            + ' to learn more about interactive tables.';\n",
              "          element.innerHTML = '';\n",
              "          dataTable['output_type'] = 'display_data';\n",
              "          await google.colab.output.renderOutput(dataTable, element);\n",
              "          const docLink = document.createElement('div');\n",
              "          docLink.innerHTML = docLinkHtml;\n",
              "          element.appendChild(docLink);\n",
              "        }\n",
              "      </script>\n",
              "    </div>\n",
              "  </div>\n",
              "  "
            ]
          },
          "metadata": {}
        }
      ]
    },
    {
      "cell_type": "code",
      "source": [
        "plot = df_plot_dev.plot.bar(yticks=([0,1,2,3]),rot = 0)\n",
        "plot.set_xlabel('Tasks')\n",
        "plot.set_yticklabels(['','Off','Idle','Active'])"
      ],
      "metadata": {
        "colab": {
          "base_uri": "https://localhost:8080/",
          "height": 814
        },
        "id": "jJrd2BbsT-pJ",
        "outputId": "f543392a-065a-4786-dd24-a66fec8933ff"
      },
      "execution_count": null,
      "outputs": [
        {
          "output_type": "execute_result",
          "data": {
            "text/plain": [
              "[Text(0, 0, ''), Text(0, 0, 'Off'), Text(0, 0, 'Idle'), Text(0, 0, 'Active')]"
            ]
          },
          "metadata": {},
          "execution_count": 24
        },
        {
          "output_type": "display_data",
          "data": {
            "text/plain": [
              "<Figure size 2160x1260 with 1 Axes>"
            ],
            "image/png": "[encoded data removed]"
          },
          "metadata": {
            "needs_background": "light"
          }
        }
      ]
    }
  ]
}