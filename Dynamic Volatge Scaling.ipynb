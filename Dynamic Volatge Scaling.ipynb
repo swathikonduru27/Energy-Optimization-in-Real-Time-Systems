{
  "nbformat": 4,
  "nbformat_minor": 0,
  "metadata": {
    "colab": {
      "provenance": [],
      "collapsed_sections": [
        "-9YsA60Sjq2D"
      ]
    },
    "kernelspec": {
      "name": "python3",
      "display_name": "Python 3"
    },
    "language_info": {
      "name": "python"
    }
  },
  "cells": [
    {
      "cell_type": "code",
      "execution_count": null,
      "metadata": {
        "id": "ylG5oXUtYolD"
      },
      "outputs": [],
      "source": [
        "import numpy as np\n",
        "import pandas as pd\n",
        "import plotly.express as px\n",
        "import matplotlib.pyplot as plt\n",
        "plt.rcParams['figure.figsize'] = (30, 12.5)\n",
        "plt.rcParams['font.size'] = 25"
      ]
    },
    {
      "cell_type": "markdown",
      "source": [
        "##DVS with no external devices"
      ],
      "metadata": {
        "id": "lRxZkzcxkB8M"
      }
    },
    {
      "cell_type": "markdown",
      "source": [
        "###Plot of Q_cpu (part of energy equation) vs scaling factor\n",
        "\n",
        "\n",
        "*   [Dyn Power Eq](https://drive.google.com/file/d/1fFq2FoIJSnYPZPbDRPe721ZSOzMUUqoQ/view?usp=share_link)\n",
        "*   [Energy Eq](https://drive.google.com/file/d/1_PMrtG62fgW8NhBQJwcyubMii6HwfDno/view?usp=share_link)\n",
        "*   [Q_cpu Eq](https://drive.google.com/file/d/1XBT7hpJs1-E398e6GwEbcfp8hWUOg7ww/view?usp=share_link)\n"
      ],
      "metadata": {
        "id": "XBHUCkTZaXSA"
      }
    },
    {
      "cell_type": "code",
      "source": [
        "# approximate values for Intel Core i7-9700K \n",
        "\n",
        "P_dyn_1 = 125 # W dynamic power at max frequency\n",
        "P_static = 75 # W static power (assumed to be constant)\n",
        "P_cpu = P_dyn_1 + P_static # W CPU power\n",
        "\n",
        "sf = np.arange(1,3.01,0.01) # scaling factor considered from 1 to 3; 1 representinf no scaling factor applied aka max frequency"
      ],
      "metadata": {
        "id": "0KvNWObtOEum"
      },
      "execution_count": null,
      "outputs": []
    },
    {
      "cell_type": "code",
      "source": [
        "df_Qcpu = pd.DataFrame()\n",
        "df_Qcpu['sf'] = sf\n",
        "df_Qcpu['Q_dyn'] = P_dyn_1 * pow(sf,-2)\n",
        "df_Qcpu['Q_static'] = P_static * sf\n",
        "df_Qcpu['Q_cpu'] = df_Qcpu['Q_dyn'] + df_Qcpu['Q_static'] # can also be obtained by mutiplying 'sf' to the P_cpu\n",
        "df_Qcpu['P_cpu'] = df_Qcpu['Q_cpu']/df_Qcpu['sf']"
      ],
      "metadata": {
        "id": "09ylU7nsYT5R"
      },
      "execution_count": null,
      "outputs": []
    },
    {
      "cell_type": "code",
      "source": [
        "display(df_Qcpu)"
      ],
      "metadata": {
        "id": "7hFuzllCYw57",
        "colab": {
          "base_uri": "https://localhost:8080/",
          "height": 424
        },
        "outputId": "b8f058c9-e9dc-4f56-af10-34d169f1562f"
      },
      "execution_count": null,
      "outputs": [
        {
          "output_type": "display_data",
          "data": {
            "text/plain": [
              "       sf       Q_dyn  Q_static       Q_cpu       P_cpu\n",
              "0    1.00  125.000000     75.00  200.000000  200.000000\n",
              "1    1.01  122.537006     75.75  198.287006  196.323768\n",
              "2    1.02  120.146098     76.50  196.646098  192.790292\n",
              "3    1.03  117.824489     77.25  195.074489  189.392707\n",
              "4    1.04  115.569527     78.00  193.569527  186.124545\n",
              "..    ...         ...       ...         ...         ...\n",
              "196  2.96   14.266801    222.00  236.266801   79.819865\n",
              "197  2.97   14.170890    222.75  236.920890   79.771343\n",
              "198  2.98   14.075943    223.50  237.575943   79.723471\n",
              "199  2.99   13.981947    224.25  238.231947   79.676236\n",
              "200  3.00   13.888889    225.00  238.888889   79.629630\n",
              "\n",
              "[201 rows x 5 columns]"
            ],
            "text/html": [
              "\n",
              "  <div id=\"df-33172603-9697-45fa-acac-e7d79b274d4c\">\n",
              "    <div class=\"colab-df-container\">\n",
              "      <div>\n",
              "<style scoped>\n",
              "    .dataframe tbody tr th:only-of-type {\n",
              "        vertical-align: middle;\n",
              "    }\n",
              "\n",
              "    .dataframe tbody tr th {\n",
              "        vertical-align: top;\n",
              "    }\n",
              "\n",
              "    .dataframe thead th {\n",
              "        text-align: right;\n",
              "    }\n",
              "</style>\n",
              "<table border=\"1\" class=\"dataframe\">\n",
              "  <thead>\n",
              "    <tr style=\"text-align: right;\">\n",
              "      <th></th>\n",
              "      <th>sf</th>\n",
              "      <th>Q_dyn</th>\n",
              "      <th>Q_static</th>\n",
              "      <th>Q_cpu</th>\n",
              "      <th>P_cpu</th>\n",
              "    </tr>\n",
              "  </thead>\n",
              "  <tbody>\n",
              "    <tr>\n",
              "      <th>0</th>\n",
              "      <td>1.00</td>\n",
              "      <td>125.000000</td>\n",
              "      <td>75.00</td>\n",
              "      <td>200.000000</td>\n",
              "      <td>200.000000</td>\n",
              "    </tr>\n",
              "    <tr>\n",
              "      <th>1</th>\n",
              "      <td>1.01</td>\n",
              "      <td>122.537006</td>\n",
              "      <td>75.75</td>\n",
              "      <td>198.287006</td>\n",
              "      <td>196.323768</td>\n",
              "    </tr>\n",
              "    <tr>\n",
              "      <th>2</th>\n",
              "      <td>1.02</td>\n",
              "      <td>120.146098</td>\n",
              "      <td>76.50</td>\n",
              "      <td>196.646098</td>\n",
              "      <td>192.790292</td>\n",
              "    </tr>\n",
              "    <tr>\n",
              "      <th>3</th>\n",
              "      <td>1.03</td>\n",
              "      <td>117.824489</td>\n",
              "      <td>77.25</td>\n",
              "      <td>195.074489</td>\n",
              "      <td>189.392707</td>\n",
              "    </tr>\n",
              "    <tr>\n",
              "      <th>4</th>\n",
              "      <td>1.04</td>\n",
              "      <td>115.569527</td>\n",
              "      <td>78.00</td>\n",
              "      <td>193.569527</td>\n",
              "      <td>186.124545</td>\n",
              "    </tr>\n",
              "    <tr>\n",
              "      <th>...</th>\n",
              "      <td>...</td>\n",
              "      <td>...</td>\n",
              "      <td>...</td>\n",
              "      <td>...</td>\n",
              "      <td>...</td>\n",
              "    </tr>\n",
              "    <tr>\n",
              "      <th>196</th>\n",
              "      <td>2.96</td>\n",
              "      <td>14.266801</td>\n",
              "      <td>222.00</td>\n",
              "      <td>236.266801</td>\n",
              "      <td>79.819865</td>\n",
              "    </tr>\n",
              "    <tr>\n",
              "      <th>197</th>\n",
              "      <td>2.97</td>\n",
              "      <td>14.170890</td>\n",
              "      <td>222.75</td>\n",
              "      <td>236.920890</td>\n",
              "      <td>79.771343</td>\n",
              "    </tr>\n",
              "    <tr>\n",
              "      <th>198</th>\n",
              "      <td>2.98</td>\n",
              "      <td>14.075943</td>\n",
              "      <td>223.50</td>\n",
              "      <td>237.575943</td>\n",
              "      <td>79.723471</td>\n",
              "    </tr>\n",
              "    <tr>\n",
              "      <th>199</th>\n",
              "      <td>2.99</td>\n",
              "      <td>13.981947</td>\n",
              "      <td>224.25</td>\n",
              "      <td>238.231947</td>\n",
              "      <td>79.676236</td>\n",
              "    </tr>\n",
              "    <tr>\n",
              "      <th>200</th>\n",
              "      <td>3.00</td>\n",
              "      <td>13.888889</td>\n",
              "      <td>225.00</td>\n",
              "      <td>238.888889</td>\n",
              "      <td>79.629630</td>\n",
              "    </tr>\n",
              "  </tbody>\n",
              "</table>\n",
              "<p>201 rows × 5 columns</p>\n",
              "</div>\n",
              "      <button class=\"colab-df-convert\" onclick=\"convertToInteractive('df-33172603-9697-45fa-acac-e7d79b274d4c')\"\n",
              "              title=\"Convert this dataframe to an interactive table.\"\n",
              "              style=\"display:none;\">\n",
              "        \n",
              "  <svg xmlns=\"http://www.w3.org/2000/svg\" height=\"24px\"viewBox=\"0 0 24 24\"\n",
              "       width=\"24px\">\n",
              "    <path d=\"M0 0h24v24H0V0z\" fill=\"none\"/>\n",
              "    <path d=\"M18.56 5.44l.94 2.06.94-2.06 2.06-.94-2.06-.94-.94-2.06-.94 2.06-2.06.94zm-11 1L8.5 8.5l.94-2.06 2.06-.94-2.06-.94L8.5 2.5l-.94 2.06-2.06.94zm10 10l.94 2.06.94-2.06 2.06-.94-2.06-.94-.94-2.06-.94 2.06-2.06.94z\"/><path d=\"M17.41 7.96l-1.37-1.37c-.4-.4-.92-.59-1.43-.59-.52 0-1.04.2-1.43.59L10.3 9.45l-7.72 7.72c-.78.78-.78 2.05 0 2.83L4 21.41c.39.39.9.59 1.41.59.51 0 1.02-.2 1.41-.59l7.78-7.78 2.81-2.81c.8-.78.8-2.07 0-2.86zM5.41 20L4 18.59l7.72-7.72 1.47 1.35L5.41 20z\"/>\n",
              "  </svg>\n",
              "      </button>\n",
              "      \n",
              "  <style>\n",
              "    .colab-df-container {\n",
              "      display:flex;\n",
              "      flex-wrap:wrap;\n",
              "      gap: 12px;\n",
              "    }\n",
              "\n",
              "    .colab-df-convert {\n",
              "      background-color: #E8F0FE;\n",
              "      border: none;\n",
              "      border-radius: 50%;\n",
              "      cursor: pointer;\n",
              "      display: none;\n",
              "      fill: #1967D2;\n",
              "      height: 32px;\n",
              "      padding: 0 0 0 0;\n",
              "      width: 32px;\n",
              "    }\n",
              "\n",
              "    .colab-df-convert:hover {\n",
              "      background-color: #E2EBFA;\n",
              "      box-shadow: 0px 1px 2px rgba(60, 64, 67, 0.3), 0px 1px 3px 1px rgba(60, 64, 67, 0.15);\n",
              "      fill: #174EA6;\n",
              "    }\n",
              "\n",
              "    [theme=dark] .colab-df-convert {\n",
              "      background-color: #3B4455;\n",
              "      fill: #D2E3FC;\n",
              "    }\n",
              "\n",
              "    [theme=dark] .colab-df-convert:hover {\n",
              "      background-color: #434B5C;\n",
              "      box-shadow: 0px 1px 3px 1px rgba(0, 0, 0, 0.15);\n",
              "      filter: drop-shadow(0px 1px 2px rgba(0, 0, 0, 0.3));\n",
              "      fill: #FFFFFF;\n",
              "    }\n",
              "  </style>\n",
              "\n",
              "      <script>\n",
              "        const buttonEl =\n",
              "          document.querySelector('#df-33172603-9697-45fa-acac-e7d79b274d4c button.colab-df-convert');\n",
              "        buttonEl.style.display =\n",
              "          google.colab.kernel.accessAllowed ? 'block' : 'none';\n",
              "\n",
              "        async function convertToInteractive(key) {\n",
              "          const element = document.querySelector('#df-33172603-9697-45fa-acac-e7d79b274d4c');\n",
              "          const dataTable =\n",
              "            await google.colab.kernel.invokeFunction('convertToInteractive',\n",
              "                                                     [key], {});\n",
              "          if (!dataTable) return;\n",
              "\n",
              "          const docLinkHtml = 'Like what you see? Visit the ' +\n",
              "            '<a target=\"_blank\" href=https://colab.research.google.com/notebooks/data_table.ipynb>data table notebook</a>'\n",
              "            + ' to learn more about interactive tables.';\n",
              "          element.innerHTML = '';\n",
              "          dataTable['output_type'] = 'display_data';\n",
              "          await google.colab.output.renderOutput(dataTable, element);\n",
              "          const docLink = document.createElement('div');\n",
              "          docLink.innerHTML = docLinkHtml;\n",
              "          element.appendChild(docLink);\n",
              "        }\n",
              "      </script>\n",
              "    </div>\n",
              "  </div>\n",
              "  "
            ]
          },
          "metadata": {}
        }
      ]
    },
    {
      "cell_type": "code",
      "source": [
        "Q_cpu_min_fig = df_Qcpu.Q_cpu.min()\n",
        "sf_qmin_fig = df_Qcpu.sf.iloc[df_Qcpu['Q_cpu'].index[df_Qcpu['Q_cpu'] == Q_cpu_min_fig]]"
      ],
      "metadata": {
        "id": "_IwXhh4TgRWA"
      },
      "execution_count": null,
      "outputs": []
    },
    {
      "cell_type": "code",
      "source": [
        "# fig1 = px.line(df_Qcpu, x = 'sf', y = ['Q_dyn','Q_static','Q_cpu'], title='Q_cpu(s) vs scaling factor')\n",
        "# fig1.add_scatter(x = sf_qmin_fig, y = [Q_cpu_min_fig], mode = 'markers', marker=dict(color='RebeccaPurple',size=7.5), name = 'Q_cpu_min')\n",
        "# fig1.show()"
      ],
      "metadata": {
        "id": "YzQO6DsQcukp"
      },
      "execution_count": null,
      "outputs": []
    },
    {
      "cell_type": "code",
      "source": [
        "fig1, ax1 = plt.subplots(1,1)\n",
        "ax1.plot(df_Qcpu['sf'],df_Qcpu['Q_static'], label = 'Q_static',color = 'red', zorder = 3)\n",
        "ax1.plot(df_Qcpu['sf'],df_Qcpu['Q_dyn'], label = 'Q_dyn',color = 'blue', zorder = 3)\n",
        "ax1.plot(df_Qcpu['sf'],df_Qcpu['Q_cpu'], label = 'Q_cpu',color = 'green', zorder = 3)\n",
        "ax1.scatter(sf_qmin_fig, Q_cpu_min_fig, label = 'Q_cpu_min',color = 'RebeccaPurple', s=100)\n",
        "ax1.set(xlabel = 'Scaling_factor', ylabel = 'Q_cpu(W)',xlim = (1,3), title = 'Q_cpu(W) vs scaling factor')\n",
        "ax1.legend(loc = 7)\n",
        "ax1.grid(zorder=1)"
      ],
      "metadata": {
        "colab": {
          "base_uri": "https://localhost:8080/",
          "height": 604
        },
        "id": "GLaG4jnc-Ygh",
        "outputId": "bb49f6a8-6afa-4e4a-8bbe-3196d1b64d26"
      },
      "execution_count": null,
      "outputs": [
        {
          "output_type": "display_data",
          "data": {
            "text/plain": [
              "<Figure size 2160x900 with 1 Axes>"
            ],
            "image/png": "[encoded data removed]"
          },
          "metadata": {
            "needs_background": "light"
          }
        }
      ]
    },
    {
      "cell_type": "markdown",
      "source": [
        "To get the optimal scaling factor \n",
        "\n",
        "*   we can directly get it from the graph by finding the minimum value of Q_cpu and getting the corresponding frequency (Already shown in the graph)\n",
        "*   By using the formula (derived from finding the min of the [Q_cpu Eq](https://drive.google.com/file/d/1XBT7hpJs1-E398e6GwEbcfp8hWUOg7ww/view?usp=share_link))\n",
        "\n"
      ],
      "metadata": {
        "id": "QcOKiMu4ewFa"
      }
    },
    {
      "cell_type": "code",
      "source": [
        "#Formula\n",
        "sf_eq = pow(((2*P_dyn_1)/P_static),1/3)\n",
        "sf_eq = round(sf_eq,2)"
      ],
      "metadata": {
        "id": "Yy87b8PXd9IG"
      },
      "execution_count": null,
      "outputs": []
    },
    {
      "cell_type": "code",
      "source": [
        "print('Optimal scaling factor = ',sf_eq)"
      ],
      "metadata": {
        "colab": {
          "base_uri": "https://localhost:8080/"
        },
        "id": "YWvkOPWFlumF",
        "outputId": "9cf89eee-609a-487e-f1ab-23bc4f0906fc"
      },
      "execution_count": null,
      "outputs": [
        {
          "output_type": "stream",
          "name": "stdout",
          "text": [
            "Optimal scaling factor =  1.71\n"
          ]
        }
      ]
    },
    {
      "cell_type": "markdown",
      "source": [
        "## Simple Scheduling algorithm"
      ],
      "metadata": {
        "id": "7eJHvw3vxpFv"
      }
    },
    {
      "cell_type": "markdown",
      "source": [
        "Tasks are considered to be periodic and the deadline is equal to its period.\n",
        "\n",
        "\n",
        "In case of a predefined priority, Tasks are also given an option to use predefined priority order.\n",
        "\n",
        "If priority numbers are not used then the order of tasks is defined by **Least Slack Time (LST)** If two  tasks have same LST then the priority is decided by predefined priority\n",
        "\n",
        "**All times are in ms**"
      ],
      "metadata": {
        "id": "aby5huZv5Pn9"
      }
    },
    {
      "cell_type": "markdown",
      "source": [
        "Least Slack Time (LST) is a scheduling algorithm that prioritizes tasks based on the amount of time remaining until their deadline. Tasks with the least amount of time remaining until their deadline are given priority over tasks with more time remaining. This algorithm is often used in real-time systems where deadlines are hard and inflexible."
      ],
      "metadata": {
        "id": "SBeOpSTnmz6B"
      }
    },
    {
      "cell_type": "markdown",
      "source": [
        "### Simple LST"
      ],
      "metadata": {
        "id": "-9YsA60Sjq2D"
      }
    },
    {
      "cell_type": "code",
      "source": [
        "import pandas as pd\n",
        "\n",
        "# Create a DataFrame to store the tasks\n",
        "tasks_df = pd.DataFrame(columns=[\"name\", \"release_time\", \"deadline\", \"wcet\", \"priority\"])\n",
        "\n",
        "# Add tasks to the DataFrame\n",
        "tasks_df = tasks_df.append({\"name\": \"A\", \"release_time\": 0, \"deadline\": 10, \"wcet\": 3, \"priority\": 1}, ignore_index=True)\n",
        "tasks_df = tasks_df.append({\"name\": \"B\", \"release_time\": 1, \"deadline\": 5, \"wcet\": 2, \"priority\": 2}, ignore_index=True)\n",
        "tasks_df = tasks_df.append({\"name\": \"C\", \"release_time\": 2, \"deadline\": 8, \"wcet\": 4, \"priority\": 3}, ignore_index=True)\n",
        "tasks_df = tasks_df.append({\"name\": \"D\", \"release_time\": 3, \"deadline\": 12, \"wcet\": 1, \"priority\": 4}, ignore_index=True)\n",
        "\n",
        "# Get the current time\n",
        "current_time = 0\n",
        "\n",
        "# Calculate the slack time for each task\n",
        "tasks_df[\"slack_time\"] = tasks_df[\"deadline\"] - current_time - tasks_df[\"wcet\"]\n",
        "\n",
        "# Sort the tasks by slack time and priority\n",
        "tasks_df.sort_values(by=[\"slack_time\", \"priority\"], ascending=[True, False], inplace=True)\n"
      ],
      "metadata": {
        "id": "cfnyoik4x02E"
      },
      "execution_count": null,
      "outputs": []
    },
    {
      "cell_type": "code",
      "source": [
        "display(tasks_df)"
      ],
      "metadata": {
        "colab": {
          "base_uri": "https://localhost:8080/"
        },
        "id": "QGtRXF8BdPG_",
        "outputId": "0b17bbfd-9575-4ef2-b604-b0d13239e317"
      },
      "execution_count": null,
      "outputs": [
        {
          "output_type": "display_data",
          "data": {
            "text/plain": [
              "  name release_time deadline wcet priority slack_time\n",
              "1    B            1        5    2        2          3\n",
              "2    C            2        8    4        3          4\n",
              "0    A            0       10    3        1          7\n",
              "3    D            3       12    1        4         11"
            ],
            "text/html": [
              "\n",
              "  <div id=\"df-83b593e5-e390-42d7-ae74-2f04edd42fbe\">\n",
              "    <div class=\"colab-df-container\">\n",
              "      <div>\n",
              "<style scoped>\n",
              "    .dataframe tbody tr th:only-of-type {\n",
              "        vertical-align: middle;\n",
              "    }\n",
              "\n",
              "    .dataframe tbody tr th {\n",
              "        vertical-align: top;\n",
              "    }\n",
              "\n",
              "    .dataframe thead th {\n",
              "        text-align: right;\n",
              "    }\n",
              "</style>\n",
              "<table border=\"1\" class=\"dataframe\">\n",
              "  <thead>\n",
              "    <tr style=\"text-align: right;\">\n",
              "      <th></th>\n",
              "      <th>name</th>\n",
              "      <th>release_time</th>\n",
              "      <th>deadline</th>\n",
              "      <th>wcet</th>\n",
              "      <th>priority</th>\n",
              "      <th>slack_time</th>\n",
              "    </tr>\n",
              "  </thead>\n",
              "  <tbody>\n",
              "    <tr>\n",
              "      <th>1</th>\n",
              "      <td>B</td>\n",
              "      <td>1</td>\n",
              "      <td>5</td>\n",
              "      <td>2</td>\n",
              "      <td>2</td>\n",
              "      <td>3</td>\n",
              "    </tr>\n",
              "    <tr>\n",
              "      <th>2</th>\n",
              "      <td>C</td>\n",
              "      <td>2</td>\n",
              "      <td>8</td>\n",
              "      <td>4</td>\n",
              "      <td>3</td>\n",
              "      <td>4</td>\n",
              "    </tr>\n",
              "    <tr>\n",
              "      <th>0</th>\n",
              "      <td>A</td>\n",
              "      <td>0</td>\n",
              "      <td>10</td>\n",
              "      <td>3</td>\n",
              "      <td>1</td>\n",
              "      <td>7</td>\n",
              "    </tr>\n",
              "    <tr>\n",
              "      <th>3</th>\n",
              "      <td>D</td>\n",
              "      <td>3</td>\n",
              "      <td>12</td>\n",
              "      <td>1</td>\n",
              "      <td>4</td>\n",
              "      <td>11</td>\n",
              "    </tr>\n",
              "  </tbody>\n",
              "</table>\n",
              "</div>\n",
              "      <button class=\"colab-df-convert\" onclick=\"convertToInteractive('df-83b593e5-e390-42d7-ae74-2f04edd42fbe')\"\n",
              "              title=\"Convert this dataframe to an interactive table.\"\n",
              "              style=\"display:none;\">\n",
              "        \n",
              "  <svg xmlns=\"http://www.w3.org/2000/svg\" height=\"24px\"viewBox=\"0 0 24 24\"\n",
              "       width=\"24px\">\n",
              "    <path d=\"M0 0h24v24H0V0z\" fill=\"none\"/>\n",
              "    <path d=\"M18.56 5.44l.94 2.06.94-2.06 2.06-.94-2.06-.94-.94-2.06-.94 2.06-2.06.94zm-11 1L8.5 8.5l.94-2.06 2.06-.94-2.06-.94L8.5 2.5l-.94 2.06-2.06.94zm10 10l.94 2.06.94-2.06 2.06-.94-2.06-.94-.94-2.06-.94 2.06-2.06.94z\"/><path d=\"M17.41 7.96l-1.37-1.37c-.4-.4-.92-.59-1.43-.59-.52 0-1.04.2-1.43.59L10.3 9.45l-7.72 7.72c-.78.78-.78 2.05 0 2.83L4 21.41c.39.39.9.59 1.41.59.51 0 1.02-.2 1.41-.59l7.78-7.78 2.81-2.81c.8-.78.8-2.07 0-2.86zM5.41 20L4 18.59l7.72-7.72 1.47 1.35L5.41 20z\"/>\n",
              "  </svg>\n",
              "      </button>\n",
              "      \n",
              "  <style>\n",
              "    .colab-df-container {\n",
              "      display:flex;\n",
              "      flex-wrap:wrap;\n",
              "      gap: 12px;\n",
              "    }\n",
              "\n",
              "    .colab-df-convert {\n",
              "      background-color: #E8F0FE;\n",
              "      border: none;\n",
              "      border-radius: 50%;\n",
              "      cursor: pointer;\n",
              "      display: none;\n",
              "      fill: #1967D2;\n",
              "      height: 32px;\n",
              "      padding: 0 0 0 0;\n",
              "      width: 32px;\n",
              "    }\n",
              "\n",
              "    .colab-df-convert:hover {\n",
              "      background-color: #E2EBFA;\n",
              "      box-shadow: 0px 1px 2px rgba(60, 64, 67, 0.3), 0px 1px 3px 1px rgba(60, 64, 67, 0.15);\n",
              "      fill: #174EA6;\n",
              "    }\n",
              "\n",
              "    [theme=dark] .colab-df-convert {\n",
              "      background-color: #3B4455;\n",
              "      fill: #D2E3FC;\n",
              "    }\n",
              "\n",
              "    [theme=dark] .colab-df-convert:hover {\n",
              "      background-color: #434B5C;\n",
              "      box-shadow: 0px 1px 3px 1px rgba(0, 0, 0, 0.15);\n",
              "      filter: drop-shadow(0px 1px 2px rgba(0, 0, 0, 0.3));\n",
              "      fill: #FFFFFF;\n",
              "    }\n",
              "  </style>\n",
              "\n",
              "      <script>\n",
              "        const buttonEl =\n",
              "          document.querySelector('#df-83b593e5-e390-42d7-ae74-2f04edd42fbe button.colab-df-convert');\n",
              "        buttonEl.style.display =\n",
              "          google.colab.kernel.accessAllowed ? 'block' : 'none';\n",
              "\n",
              "        async function convertToInteractive(key) {\n",
              "          const element = document.querySelector('#df-83b593e5-e390-42d7-ae74-2f04edd42fbe');\n",
              "          const dataTable =\n",
              "            await google.colab.kernel.invokeFunction('convertToInteractive',\n",
              "                                                     [key], {});\n",
              "          if (!dataTable) return;\n",
              "\n",
              "          const docLinkHtml = 'Like what you see? Visit the ' +\n",
              "            '<a target=\"_blank\" href=https://colab.research.google.com/notebooks/data_table.ipynb>data table notebook</a>'\n",
              "            + ' to learn more about interactive tables.';\n",
              "          element.innerHTML = '';\n",
              "          dataTable['output_type'] = 'display_data';\n",
              "          await google.colab.output.renderOutput(dataTable, element);\n",
              "          const docLink = document.createElement('div');\n",
              "          docLink.innerHTML = docLinkHtml;\n",
              "          element.appendChild(docLink);\n",
              "        }\n",
              "      </script>\n",
              "    </div>\n",
              "  </div>\n",
              "  "
            ]
          },
          "metadata": {}
        }
      ]
    },
    {
      "cell_type": "markdown",
      "source": [
        "### Complex LST\n",
        "\n",
        "[AET assumtion](https://drive.google.com/file/d/1yt283Hizdas8XDQ_pVr8tRD9ilhHsLef/view?usp=share_link)"
      ],
      "metadata": {
        "id": "ASrDBcZojtwT"
      }
    },
    {
      "cell_type": "code",
      "source": [
        "import pandas as pd\n",
        "\n",
        "#Times are in s\n",
        "# initialize task dataframe\n",
        "df_tasks = pd.DataFrame({'Task': [\"Task 1\", \"Task 2\", \"Task 3\", \"Task 4\"],\n",
        "                     'Deadline': [100, 50, 110, 70],\n",
        "                     'WCET': [40, 45, 30, 20],\n",
        "                     'Priority': [1, 2, 3, 4]})\n",
        "\n",
        "df_tasks['AET'] = .75*df_tasks['WCET']\n",
        "\n",
        "# schedule df_tasks\n",
        "current_time = 0\n",
        "schedule = []\n",
        "start_time = []\n",
        "end_time = []\n",
        "while not df_tasks.empty:\n",
        "    # update slack time for all df_tasks\n",
        "    df_tasks['Slack Time'] = df_tasks['Deadline'] - (current_time + df_tasks['WCET'])\n",
        "    # sort df_tasks based on LST and priority\n",
        "    df_tasks = df_tasks.sort_values(by=['Slack Time', 'Priority'], ascending=[True, False])\n",
        "    # select next task\n",
        "    next_task = df_tasks.iloc[0]\n",
        "    schedule.append(next_task)\n",
        "    start_time.append(current_time)\n",
        "    # update current time\n",
        "    current_time += next_task['AET']\n",
        "    # remove task from list of df_tasks\n",
        "    df_tasks = df_tasks.drop(next_task.name)\n",
        "    end_time.append(current_time)\n",
        "\n",
        "# output scheduled df_tasks\n",
        "df_sch_tasks = pd.DataFrame(schedule, columns = ['Task','Deadline','WCET','Priority','AET','Slack Time'])\n",
        "df_sch_tasks['start_time'] = start_time\n",
        "df_sch_tasks['end_time'] = end_time\n"
      ],
      "metadata": {
        "id": "pa1h8hzFjx1w"
      },
      "execution_count": null,
      "outputs": []
    },
    {
      "cell_type": "code",
      "source": [
        "display(df_sch_tasks)"
      ],
      "metadata": {
        "colab": {
          "base_uri": "https://localhost:8080/"
        },
        "id": "80sShfCs2Xy9",
        "outputId": "c5edbd44-9e02-423c-ff7c-6c6491dbc9f4"
      },
      "execution_count": null,
      "outputs": [
        {
          "output_type": "display_data",
          "data": {
            "text/plain": [
              "     Task  Deadline  WCET  Priority    AET  Slack Time  start_time  end_time\n",
              "1  Task 2        50    45         2  33.75        5.00        0.00     33.75\n",
              "3  Task 4        70    20         4  15.00       16.25       33.75     48.75\n",
              "0  Task 1       100    40         1  30.00       11.25       48.75     78.75\n",
              "2  Task 3       110    30         3  22.50        1.25       78.75    101.25"
            ],
            "text/html": [
              "\n",
              "  <div id=\"df-521bb9f7-a5ae-48e3-8414-e6eaacdf5708\">\n",
              "    <div class=\"colab-df-container\">\n",
              "      <div>\n",
              "<style scoped>\n",
              "    .dataframe tbody tr th:only-of-type {\n",
              "        vertical-align: middle;\n",
              "    }\n",
              "\n",
              "    .dataframe tbody tr th {\n",
              "        vertical-align: top;\n",
              "    }\n",
              "\n",
              "    .dataframe thead th {\n",
              "        text-align: right;\n",
              "    }\n",
              "</style>\n",
              "<table border=\"1\" class=\"dataframe\">\n",
              "  <thead>\n",
              "    <tr style=\"text-align: right;\">\n",
              "      <th></th>\n",
              "      <th>Task</th>\n",
              "      <th>Deadline</th>\n",
              "      <th>WCET</th>\n",
              "      <th>Priority</th>\n",
              "      <th>AET</th>\n",
              "      <th>Slack Time</th>\n",
              "      <th>start_time</th>\n",
              "      <th>end_time</th>\n",
              "    </tr>\n",
              "  </thead>\n",
              "  <tbody>\n",
              "    <tr>\n",
              "      <th>1</th>\n",
              "      <td>Task 2</td>\n",
              "      <td>50</td>\n",
              "      <td>45</td>\n",
              "      <td>2</td>\n",
              "      <td>33.75</td>\n",
              "      <td>5.00</td>\n",
              "      <td>0.00</td>\n",
              "      <td>33.75</td>\n",
              "    </tr>\n",
              "    <tr>\n",
              "      <th>3</th>\n",
              "      <td>Task 4</td>\n",
              "      <td>70</td>\n",
              "      <td>20</td>\n",
              "      <td>4</td>\n",
              "      <td>15.00</td>\n",
              "      <td>16.25</td>\n",
              "      <td>33.75</td>\n",
              "      <td>48.75</td>\n",
              "    </tr>\n",
              "    <tr>\n",
              "      <th>0</th>\n",
              "      <td>Task 1</td>\n",
              "      <td>100</td>\n",
              "      <td>40</td>\n",
              "      <td>1</td>\n",
              "      <td>30.00</td>\n",
              "      <td>11.25</td>\n",
              "      <td>48.75</td>\n",
              "      <td>78.75</td>\n",
              "    </tr>\n",
              "    <tr>\n",
              "      <th>2</th>\n",
              "      <td>Task 3</td>\n",
              "      <td>110</td>\n",
              "      <td>30</td>\n",
              "      <td>3</td>\n",
              "      <td>22.50</td>\n",
              "      <td>1.25</td>\n",
              "      <td>78.75</td>\n",
              "      <td>101.25</td>\n",
              "    </tr>\n",
              "  </tbody>\n",
              "</table>\n",
              "</div>\n",
              "      <button class=\"colab-df-convert\" onclick=\"convertToInteractive('df-521bb9f7-a5ae-48e3-8414-e6eaacdf5708')\"\n",
              "              title=\"Convert this dataframe to an interactive table.\"\n",
              "              style=\"display:none;\">\n",
              "        \n",
              "  <svg xmlns=\"http://www.w3.org/2000/svg\" height=\"24px\"viewBox=\"0 0 24 24\"\n",
              "       width=\"24px\">\n",
              "    <path d=\"M0 0h24v24H0V0z\" fill=\"none\"/>\n",
              "    <path d=\"M18.56 5.44l.94 2.06.94-2.06 2.06-.94-2.06-.94-.94-2.06-.94 2.06-2.06.94zm-11 1L8.5 8.5l.94-2.06 2.06-.94-2.06-.94L8.5 2.5l-.94 2.06-2.06.94zm10 10l.94 2.06.94-2.06 2.06-.94-2.06-.94-.94-2.06-.94 2.06-2.06.94z\"/><path d=\"M17.41 7.96l-1.37-1.37c-.4-.4-.92-.59-1.43-.59-.52 0-1.04.2-1.43.59L10.3 9.45l-7.72 7.72c-.78.78-.78 2.05 0 2.83L4 21.41c.39.39.9.59 1.41.59.51 0 1.02-.2 1.41-.59l7.78-7.78 2.81-2.81c.8-.78.8-2.07 0-2.86zM5.41 20L4 18.59l7.72-7.72 1.47 1.35L5.41 20z\"/>\n",
              "  </svg>\n",
              "      </button>\n",
              "      \n",
              "  <style>\n",
              "    .colab-df-container {\n",
              "      display:flex;\n",
              "      flex-wrap:wrap;\n",
              "      gap: 12px;\n",
              "    }\n",
              "\n",
              "    .colab-df-convert {\n",
              "      background-color: #E8F0FE;\n",
              "      border: none;\n",
              "      border-radius: 50%;\n",
              "      cursor: pointer;\n",
              "      display: none;\n",
              "      fill: #1967D2;\n",
              "      height: 32px;\n",
              "      padding: 0 0 0 0;\n",
              "      width: 32px;\n",
              "    }\n",
              "\n",
              "    .colab-df-convert:hover {\n",
              "      background-color: #E2EBFA;\n",
              "      box-shadow: 0px 1px 2px rgba(60, 64, 67, 0.3), 0px 1px 3px 1px rgba(60, 64, 67, 0.15);\n",
              "      fill: #174EA6;\n",
              "    }\n",
              "\n",
              "    [theme=dark] .colab-df-convert {\n",
              "      background-color: #3B4455;\n",
              "      fill: #D2E3FC;\n",
              "    }\n",
              "\n",
              "    [theme=dark] .colab-df-convert:hover {\n",
              "      background-color: #434B5C;\n",
              "      box-shadow: 0px 1px 3px 1px rgba(0, 0, 0, 0.15);\n",
              "      filter: drop-shadow(0px 1px 2px rgba(0, 0, 0, 0.3));\n",
              "      fill: #FFFFFF;\n",
              "    }\n",
              "  </style>\n",
              "\n",
              "      <script>\n",
              "        const buttonEl =\n",
              "          document.querySelector('#df-521bb9f7-a5ae-48e3-8414-e6eaacdf5708 button.colab-df-convert');\n",
              "        buttonEl.style.display =\n",
              "          google.colab.kernel.accessAllowed ? 'block' : 'none';\n",
              "\n",
              "        async function convertToInteractive(key) {\n",
              "          const element = document.querySelector('#df-521bb9f7-a5ae-48e3-8414-e6eaacdf5708');\n",
              "          const dataTable =\n",
              "            await google.colab.kernel.invokeFunction('convertToInteractive',\n",
              "                                                     [key], {});\n",
              "          if (!dataTable) return;\n",
              "\n",
              "          const docLinkHtml = 'Like what you see? Visit the ' +\n",
              "            '<a target=\"_blank\" href=https://colab.research.google.com/notebooks/data_table.ipynb>data table notebook</a>'\n",
              "            + ' to learn more about interactive tables.';\n",
              "          element.innerHTML = '';\n",
              "          dataTable['output_type'] = 'display_data';\n",
              "          await google.colab.output.renderOutput(dataTable, element);\n",
              "          const docLink = document.createElement('div');\n",
              "          docLink.innerHTML = docLinkHtml;\n",
              "          element.appendChild(docLink);\n",
              "        }\n",
              "      </script>\n",
              "    </div>\n",
              "  </div>\n",
              "  "
            ]
          },
          "metadata": {}
        }
      ]
    },
    {
      "cell_type": "markdown",
      "source": [
        "###DVS"
      ],
      "metadata": {
        "id": "BlpSZ28aB7_K"
      }
    },
    {
      "cell_type": "code",
      "source": [
        "df_task_dvs = df_sch_tasks[['Task','Deadline','WCET','AET']]"
      ],
      "metadata": {
        "id": "aU3BgwfXB67s"
      },
      "execution_count": null,
      "outputs": []
    },
    {
      "cell_type": "code",
      "source": [
        "df_task_dvs['i_mu'] = 1/(df_task_dvs['WCET'].sum()/df_task_dvs['Deadline'].sum())"
      ],
      "metadata": {
        "id": "WbMLXAyHCwTE"
      },
      "execution_count": null,
      "outputs": []
    },
    {
      "cell_type": "code",
      "source": [
        "# approximate values for Intel Core i7-9700K \n",
        "\n",
        "P_dyn_1 = 125 # W dynamic power at max frequency\n",
        "P_static = 75 # W static power (assumed to be constant)\n",
        "P_cpu = P_dyn_1 + P_static # W CPU power"
      ],
      "metadata": {
        "id": "5wO5x3HtDTbX"
      },
      "execution_count": null,
      "outputs": []
    },
    {
      "cell_type": "code",
      "source": [
        "#Formula\n",
        "sf_eq = pow(((2*P_dyn_1)/P_static),1/3)\n",
        "sf_eq = round(sf_eq,2)\n",
        "df_task_dvs['sf_eq'] = sf_eq"
      ],
      "metadata": {
        "id": "T9lTTvcEDUeG"
      },
      "execution_count": null,
      "outputs": []
    },
    {
      "cell_type": "code",
      "source": [
        "df_task_dvs['sf_act'] = df_task_dvs[['i_mu','sf_eq']].min(axis=1)"
      ],
      "metadata": {
        "id": "m7dsx6MXFaZo"
      },
      "execution_count": null,
      "outputs": []
    },
    {
      "cell_type": "code",
      "source": [
        "display(df_task_dvs)"
      ],
      "metadata": {
        "colab": {
          "base_uri": "https://localhost:8080/",
          "height": 175
        },
        "id": "LtJPMSnUGktf",
        "outputId": "95d17068-e538-404f-da17-94d48bb80f5e"
      },
      "execution_count": null,
      "outputs": [
        {
          "output_type": "display_data",
          "data": {
            "text/plain": [
              "     Task  Deadline  WCET    AET      i_mu  sf_eq  sf_act   E_cpu    E_cpu_DVS\n",
              "1  Task 2        50    45  33.75  2.444444   1.49    1.49  6750.0  5671.814741\n",
              "3  Task 4        70    20  15.00  2.444444   1.49    1.49  3000.0  2520.806552\n",
              "0  Task 1       100    40  30.00  2.444444   1.49    1.49  6000.0  5041.613103\n",
              "2  Task 3       110    30  22.50  2.444444   1.49    1.49  4500.0  3781.209827"
            ],
            "text/html": [
              "\n",
              "  <div id=\"df-1726ffdc-8104-4ee8-abe3-677bb85d201a\">\n",
              "    <div class=\"colab-df-container\">\n",
              "      <div>\n",
              "<style scoped>\n",
              "    .dataframe tbody tr th:only-of-type {\n",
              "        vertical-align: middle;\n",
              "    }\n",
              "\n",
              "    .dataframe tbody tr th {\n",
              "        vertical-align: top;\n",
              "    }\n",
              "\n",
              "    .dataframe thead th {\n",
              "        text-align: right;\n",
              "    }\n",
              "</style>\n",
              "<table border=\"1\" class=\"dataframe\">\n",
              "  <thead>\n",
              "    <tr style=\"text-align: right;\">\n",
              "      <th></th>\n",
              "      <th>Task</th>\n",
              "      <th>Deadline</th>\n",
              "      <th>WCET</th>\n",
              "      <th>AET</th>\n",
              "      <th>i_mu</th>\n",
              "      <th>sf_eq</th>\n",
              "      <th>sf_act</th>\n",
              "      <th>E_cpu</th>\n",
              "      <th>E_cpu_DVS</th>\n",
              "    </tr>\n",
              "  </thead>\n",
              "  <tbody>\n",
              "    <tr>\n",
              "      <th>1</th>\n",
              "      <td>Task 2</td>\n",
              "      <td>50</td>\n",
              "      <td>45</td>\n",
              "      <td>33.75</td>\n",
              "      <td>2.444444</td>\n",
              "      <td>1.49</td>\n",
              "      <td>1.49</td>\n",
              "      <td>6750.0</td>\n",
              "      <td>5671.814741</td>\n",
              "    </tr>\n",
              "    <tr>\n",
              "      <th>3</th>\n",
              "      <td>Task 4</td>\n",
              "      <td>70</td>\n",
              "      <td>20</td>\n",
              "      <td>15.00</td>\n",
              "      <td>2.444444</td>\n",
              "      <td>1.49</td>\n",
              "      <td>1.49</td>\n",
              "      <td>3000.0</td>\n",
              "      <td>2520.806552</td>\n",
              "    </tr>\n",
              "    <tr>\n",
              "      <th>0</th>\n",
              "      <td>Task 1</td>\n",
              "      <td>100</td>\n",
              "      <td>40</td>\n",
              "      <td>30.00</td>\n",
              "      <td>2.444444</td>\n",
              "      <td>1.49</td>\n",
              "      <td>1.49</td>\n",
              "      <td>6000.0</td>\n",
              "      <td>5041.613103</td>\n",
              "    </tr>\n",
              "    <tr>\n",
              "      <th>2</th>\n",
              "      <td>Task 3</td>\n",
              "      <td>110</td>\n",
              "      <td>30</td>\n",
              "      <td>22.50</td>\n",
              "      <td>2.444444</td>\n",
              "      <td>1.49</td>\n",
              "      <td>1.49</td>\n",
              "      <td>4500.0</td>\n",
              "      <td>3781.209827</td>\n",
              "    </tr>\n",
              "  </tbody>\n",
              "</table>\n",
              "</div>\n",
              "      <button class=\"colab-df-convert\" onclick=\"convertToInteractive('df-1726ffdc-8104-4ee8-abe3-677bb85d201a')\"\n",
              "              title=\"Convert this dataframe to an interactive table.\"\n",
              "              style=\"display:none;\">\n",
              "        \n",
              "  <svg xmlns=\"http://www.w3.org/2000/svg\" height=\"24px\"viewBox=\"0 0 24 24\"\n",
              "       width=\"24px\">\n",
              "    <path d=\"M0 0h24v24H0V0z\" fill=\"none\"/>\n",
              "    <path d=\"M18.56 5.44l.94 2.06.94-2.06 2.06-.94-2.06-.94-.94-2.06-.94 2.06-2.06.94zm-11 1L8.5 8.5l.94-2.06 2.06-.94-2.06-.94L8.5 2.5l-.94 2.06-2.06.94zm10 10l.94 2.06.94-2.06 2.06-.94-2.06-.94-.94-2.06-.94 2.06-2.06.94z\"/><path d=\"M17.41 7.96l-1.37-1.37c-.4-.4-.92-.59-1.43-.59-.52 0-1.04.2-1.43.59L10.3 9.45l-7.72 7.72c-.78.78-.78 2.05 0 2.83L4 21.41c.39.39.9.59 1.41.59.51 0 1.02-.2 1.41-.59l7.78-7.78 2.81-2.81c.8-.78.8-2.07 0-2.86zM5.41 20L4 18.59l7.72-7.72 1.47 1.35L5.41 20z\"/>\n",
              "  </svg>\n",
              "      </button>\n",
              "      \n",
              "  <style>\n",
              "    .colab-df-container {\n",
              "      display:flex;\n",
              "      flex-wrap:wrap;\n",
              "      gap: 12px;\n",
              "    }\n",
              "\n",
              "    .colab-df-convert {\n",
              "      background-color: #E8F0FE;\n",
              "      border: none;\n",
              "      border-radius: 50%;\n",
              "      cursor: pointer;\n",
              "      display: none;\n",
              "      fill: #1967D2;\n",
              "      height: 32px;\n",
              "      padding: 0 0 0 0;\n",
              "      width: 32px;\n",
              "    }\n",
              "\n",
              "    .colab-df-convert:hover {\n",
              "      background-color: #E2EBFA;\n",
              "      box-shadow: 0px 1px 2px rgba(60, 64, 67, 0.3), 0px 1px 3px 1px rgba(60, 64, 67, 0.15);\n",
              "      fill: #174EA6;\n",
              "    }\n",
              "\n",
              "    [theme=dark] .colab-df-convert {\n",
              "      background-color: #3B4455;\n",
              "      fill: #D2E3FC;\n",
              "    }\n",
              "\n",
              "    [theme=dark] .colab-df-convert:hover {\n",
              "      background-color: #434B5C;\n",
              "      box-shadow: 0px 1px 3px 1px rgba(0, 0, 0, 0.15);\n",
              "      filter: drop-shadow(0px 1px 2px rgba(0, 0, 0, 0.3));\n",
              "      fill: #FFFFFF;\n",
              "    }\n",
              "  </style>\n",
              "\n",
              "      <script>\n",
              "        const buttonEl =\n",
              "          document.querySelector('#df-1726ffdc-8104-4ee8-abe3-677bb85d201a button.colab-df-convert');\n",
              "        buttonEl.style.display =\n",
              "          google.colab.kernel.accessAllowed ? 'block' : 'none';\n",
              "\n",
              "        async function convertToInteractive(key) {\n",
              "          const element = document.querySelector('#df-1726ffdc-8104-4ee8-abe3-677bb85d201a');\n",
              "          const dataTable =\n",
              "            await google.colab.kernel.invokeFunction('convertToInteractive',\n",
              "                                                     [key], {});\n",
              "          if (!dataTable) return;\n",
              "\n",
              "          const docLinkHtml = 'Like what you see? Visit the ' +\n",
              "            '<a target=\"_blank\" href=https://colab.research.google.com/notebooks/data_table.ipynb>data table notebook</a>'\n",
              "            + ' to learn more about interactive tables.';\n",
              "          element.innerHTML = '';\n",
              "          dataTable['output_type'] = 'display_data';\n",
              "          await google.colab.output.renderOutput(dataTable, element);\n",
              "          const docLink = document.createElement('div');\n",
              "          docLink.innerHTML = docLinkHtml;\n",
              "          element.appendChild(docLink);\n",
              "        }\n",
              "      </script>\n",
              "    </div>\n",
              "  </div>\n",
              "  "
            ]
          },
          "metadata": {}
        }
      ]
    },
    {
      "cell_type": "code",
      "source": [
        "df_task_sf = df_task_dvs\n",
        "df_task_sf['E_cpu'] = (P_dyn_1 + P_static)*df_task_sf['AET']\n",
        "df_task_sf['E_cpu_DVS'] = (pow(df_task_sf['sf_act'],-2)*P_dyn_1+df_task_sf['sf_act']*P_static)*df_task_sf['AET']"
      ],
      "metadata": {
        "id": "4Lhv45d_HCiz"
      },
      "execution_count": null,
      "outputs": []
    },
    {
      "cell_type": "code",
      "source": [
        "display(df_task_sf)"
      ],
      "metadata": {
        "colab": {
          "base_uri": "https://localhost:8080/",
          "height": 175
        },
        "id": "TP65ONQvL9Br",
        "outputId": "76d8ee81-e1b4-465c-f34d-07faa1a454e2"
      },
      "execution_count": null,
      "outputs": [
        {
          "output_type": "display_data",
          "data": {
            "text/plain": [
              "     Task  Deadline  WCET    AET      i_mu  sf_eq  sf_act   E_cpu    E_cpu_DVS\n",
              "1  Task 2        50    45  33.75  2.444444   1.49    1.49  6750.0  5671.814741\n",
              "3  Task 4        70    20  15.00  2.444444   1.49    1.49  3000.0  2520.806552\n",
              "0  Task 1       100    40  30.00  2.444444   1.49    1.49  6000.0  5041.613103\n",
              "2  Task 3       110    30  22.50  2.444444   1.49    1.49  4500.0  3781.209827"
            ],
            "text/html": [
              "\n",
              "  <div id=\"df-4871f514-ceee-422c-846a-a292fd130447\">\n",
              "    <div class=\"colab-df-container\">\n",
              "      <div>\n",
              "<style scoped>\n",
              "    .dataframe tbody tr th:only-of-type {\n",
              "        vertical-align: middle;\n",
              "    }\n",
              "\n",
              "    .dataframe tbody tr th {\n",
              "        vertical-align: top;\n",
              "    }\n",
              "\n",
              "    .dataframe thead th {\n",
              "        text-align: right;\n",
              "    }\n",
              "</style>\n",
              "<table border=\"1\" class=\"dataframe\">\n",
              "  <thead>\n",
              "    <tr style=\"text-align: right;\">\n",
              "      <th></th>\n",
              "      <th>Task</th>\n",
              "      <th>Deadline</th>\n",
              "      <th>WCET</th>\n",
              "      <th>AET</th>\n",
              "      <th>i_mu</th>\n",
              "      <th>sf_eq</th>\n",
              "      <th>sf_act</th>\n",
              "      <th>E_cpu</th>\n",
              "      <th>E_cpu_DVS</th>\n",
              "    </tr>\n",
              "  </thead>\n",
              "  <tbody>\n",
              "    <tr>\n",
              "      <th>1</th>\n",
              "      <td>Task 2</td>\n",
              "      <td>50</td>\n",
              "      <td>45</td>\n",
              "      <td>33.75</td>\n",
              "      <td>2.444444</td>\n",
              "      <td>1.49</td>\n",
              "      <td>1.49</td>\n",
              "      <td>6750.0</td>\n",
              "      <td>5671.814741</td>\n",
              "    </tr>\n",
              "    <tr>\n",
              "      <th>3</th>\n",
              "      <td>Task 4</td>\n",
              "      <td>70</td>\n",
              "      <td>20</td>\n",
              "      <td>15.00</td>\n",
              "      <td>2.444444</td>\n",
              "      <td>1.49</td>\n",
              "      <td>1.49</td>\n",
              "      <td>3000.0</td>\n",
              "      <td>2520.806552</td>\n",
              "    </tr>\n",
              "    <tr>\n",
              "      <th>0</th>\n",
              "      <td>Task 1</td>\n",
              "      <td>100</td>\n",
              "      <td>40</td>\n",
              "      <td>30.00</td>\n",
              "      <td>2.444444</td>\n",
              "      <td>1.49</td>\n",
              "      <td>1.49</td>\n",
              "      <td>6000.0</td>\n",
              "      <td>5041.613103</td>\n",
              "    </tr>\n",
              "    <tr>\n",
              "      <th>2</th>\n",
              "      <td>Task 3</td>\n",
              "      <td>110</td>\n",
              "      <td>30</td>\n",
              "      <td>22.50</td>\n",
              "      <td>2.444444</td>\n",
              "      <td>1.49</td>\n",
              "      <td>1.49</td>\n",
              "      <td>4500.0</td>\n",
              "      <td>3781.209827</td>\n",
              "    </tr>\n",
              "  </tbody>\n",
              "</table>\n",
              "</div>\n",
              "      <button class=\"colab-df-convert\" onclick=\"convertToInteractive('df-4871f514-ceee-422c-846a-a292fd130447')\"\n",
              "              title=\"Convert this dataframe to an interactive table.\"\n",
              "              style=\"display:none;\">\n",
              "        \n",
              "  <svg xmlns=\"http://www.w3.org/2000/svg\" height=\"24px\"viewBox=\"0 0 24 24\"\n",
              "       width=\"24px\">\n",
              "    <path d=\"M0 0h24v24H0V0z\" fill=\"none\"/>\n",
              "    <path d=\"M18.56 5.44l.94 2.06.94-2.06 2.06-.94-2.06-.94-.94-2.06-.94 2.06-2.06.94zm-11 1L8.5 8.5l.94-2.06 2.06-.94-2.06-.94L8.5 2.5l-.94 2.06-2.06.94zm10 10l.94 2.06.94-2.06 2.06-.94-2.06-.94-.94-2.06-.94 2.06-2.06.94z\"/><path d=\"M17.41 7.96l-1.37-1.37c-.4-.4-.92-.59-1.43-.59-.52 0-1.04.2-1.43.59L10.3 9.45l-7.72 7.72c-.78.78-.78 2.05 0 2.83L4 21.41c.39.39.9.59 1.41.59.51 0 1.02-.2 1.41-.59l7.78-7.78 2.81-2.81c.8-.78.8-2.07 0-2.86zM5.41 20L4 18.59l7.72-7.72 1.47 1.35L5.41 20z\"/>\n",
              "  </svg>\n",
              "      </button>\n",
              "      \n",
              "  <style>\n",
              "    .colab-df-container {\n",
              "      display:flex;\n",
              "      flex-wrap:wrap;\n",
              "      gap: 12px;\n",
              "    }\n",
              "\n",
              "    .colab-df-convert {\n",
              "      background-color: #E8F0FE;\n",
              "      border: none;\n",
              "      border-radius: 50%;\n",
              "      cursor: pointer;\n",
              "      display: none;\n",
              "      fill: #1967D2;\n",
              "      height: 32px;\n",
              "      padding: 0 0 0 0;\n",
              "      width: 32px;\n",
              "    }\n",
              "\n",
              "    .colab-df-convert:hover {\n",
              "      background-color: #E2EBFA;\n",
              "      box-shadow: 0px 1px 2px rgba(60, 64, 67, 0.3), 0px 1px 3px 1px rgba(60, 64, 67, 0.15);\n",
              "      fill: #174EA6;\n",
              "    }\n",
              "\n",
              "    [theme=dark] .colab-df-convert {\n",
              "      background-color: #3B4455;\n",
              "      fill: #D2E3FC;\n",
              "    }\n",
              "\n",
              "    [theme=dark] .colab-df-convert:hover {\n",
              "      background-color: #434B5C;\n",
              "      box-shadow: 0px 1px 3px 1px rgba(0, 0, 0, 0.15);\n",
              "      filter: drop-shadow(0px 1px 2px rgba(0, 0, 0, 0.3));\n",
              "      fill: #FFFFFF;\n",
              "    }\n",
              "  </style>\n",
              "\n",
              "      <script>\n",
              "        const buttonEl =\n",
              "          document.querySelector('#df-4871f514-ceee-422c-846a-a292fd130447 button.colab-df-convert');\n",
              "        buttonEl.style.display =\n",
              "          google.colab.kernel.accessAllowed ? 'block' : 'none';\n",
              "\n",
              "        async function convertToInteractive(key) {\n",
              "          const element = document.querySelector('#df-4871f514-ceee-422c-846a-a292fd130447');\n",
              "          const dataTable =\n",
              "            await google.colab.kernel.invokeFunction('convertToInteractive',\n",
              "                                                     [key], {});\n",
              "          if (!dataTable) return;\n",
              "\n",
              "          const docLinkHtml = 'Like what you see? Visit the ' +\n",
              "            '<a target=\"_blank\" href=https://colab.research.google.com/notebooks/data_table.ipynb>data table notebook</a>'\n",
              "            + ' to learn more about interactive tables.';\n",
              "          element.innerHTML = '';\n",
              "          dataTable['output_type'] = 'display_data';\n",
              "          await google.colab.output.renderOutput(dataTable, element);\n",
              "          const docLink = document.createElement('div');\n",
              "          docLink.innerHTML = docLinkHtml;\n",
              "          element.appendChild(docLink);\n",
              "        }\n",
              "      </script>\n",
              "    </div>\n",
              "  </div>\n",
              "  "
            ]
          },
          "metadata": {}
        }
      ]
    },
    {
      "cell_type": "code",
      "source": [
        "import matplotlib.pyplot as plt\n",
        "plt.rcParams['figure.figsize'] = (30, 17.5)\n",
        "plt.rcParams['font.size'] = 25"
      ],
      "metadata": {
        "id": "-99P-3LTYC9l"
      },
      "execution_count": null,
      "outputs": []
    },
    {
      "cell_type": "code",
      "source": [
        "#no dvs plot\n",
        "start_time = df_sch_tasks['start_time'].to_numpy()\n",
        "end_time = df_sch_tasks['end_time'].to_numpy()\n",
        "freq = np.repeat(1,len(start_time))\n",
        "widths = end_time - start_time\n",
        "total_e_cpu = df_task_sf['E_cpu'].sum()"
      ],
      "metadata": {
        "id": "sXm7DCTeWNRn"
      },
      "execution_count": null,
      "outputs": []
    },
    {
      "cell_type": "code",
      "source": [
        "#dvs plot\n",
        "df_plot_dvs = pd.DataFrame()\n",
        "df_plot_dvs['freq'] = 1/df_task_sf['sf_act']\n",
        "df_plot_dvs['dvs_exet'] = df_task_sf['AET']*df_task_sf['sf_act']\n",
        "df_plot_dvs['dvs_strat'] = df_plot_dvs['dvs_exet'].cumsum()-df_plot_dvs['dvs_exet']\n",
        "total_e_cpu_dvs = df_task_sf['E_cpu_DVS'].sum()\n"
      ],
      "metadata": {
        "id": "EdrktyrGSfcl"
      },
      "execution_count": null,
      "outputs": []
    },
    {
      "cell_type": "code",
      "source": [
        "n = len(df_plot_dvs['dvs_exet'].to_numpy())"
      ],
      "metadata": {
        "id": "S0COwbsNjQpB"
      },
      "execution_count": null,
      "outputs": []
    },
    {
      "cell_type": "code",
      "source": [
        "display(df_plot_dvs)"
      ],
      "metadata": {
        "colab": {
          "base_uri": "https://localhost:8080/",
          "height": 175
        },
        "id": "PjhWMPAngk2i",
        "outputId": "af98065e-1b59-4214-d2a2-c8f0eb13b7a4"
      },
      "execution_count": null,
      "outputs": [
        {
          "output_type": "display_data",
          "data": {
            "text/plain": [
              "       freq  dvs_exet  dvs_strat\n",
              "1  0.671141   50.2875     0.0000\n",
              "3  0.671141   22.3500    50.2875\n",
              "0  0.671141   44.7000    72.6375\n",
              "2  0.671141   33.5250   117.3375"
            ],
            "text/html": [
              "\n",
              "  <div id=\"df-0c25d0e6-fe86-4451-935f-66b7198e60ff\">\n",
              "    <div class=\"colab-df-container\">\n",
              "      <div>\n",
              "<style scoped>\n",
              "    .dataframe tbody tr th:only-of-type {\n",
              "        vertical-align: middle;\n",
              "    }\n",
              "\n",
              "    .dataframe tbody tr th {\n",
              "        vertical-align: top;\n",
              "    }\n",
              "\n",
              "    .dataframe thead th {\n",
              "        text-align: right;\n",
              "    }\n",
              "</style>\n",
              "<table border=\"1\" class=\"dataframe\">\n",
              "  <thead>\n",
              "    <tr style=\"text-align: right;\">\n",
              "      <th></th>\n",
              "      <th>freq</th>\n",
              "      <th>dvs_exet</th>\n",
              "      <th>dvs_strat</th>\n",
              "    </tr>\n",
              "  </thead>\n",
              "  <tbody>\n",
              "    <tr>\n",
              "      <th>1</th>\n",
              "      <td>0.671141</td>\n",
              "      <td>50.2875</td>\n",
              "      <td>0.0000</td>\n",
              "    </tr>\n",
              "    <tr>\n",
              "      <th>3</th>\n",
              "      <td>0.671141</td>\n",
              "      <td>22.3500</td>\n",
              "      <td>50.2875</td>\n",
              "    </tr>\n",
              "    <tr>\n",
              "      <th>0</th>\n",
              "      <td>0.671141</td>\n",
              "      <td>44.7000</td>\n",
              "      <td>72.6375</td>\n",
              "    </tr>\n",
              "    <tr>\n",
              "      <th>2</th>\n",
              "      <td>0.671141</td>\n",
              "      <td>33.5250</td>\n",
              "      <td>117.3375</td>\n",
              "    </tr>\n",
              "  </tbody>\n",
              "</table>\n",
              "</div>\n",
              "      <button class=\"colab-df-convert\" onclick=\"convertToInteractive('df-0c25d0e6-fe86-4451-935f-66b7198e60ff')\"\n",
              "              title=\"Convert this dataframe to an interactive table.\"\n",
              "              style=\"display:none;\">\n",
              "        \n",
              "  <svg xmlns=\"http://www.w3.org/2000/svg\" height=\"24px\"viewBox=\"0 0 24 24\"\n",
              "       width=\"24px\">\n",
              "    <path d=\"M0 0h24v24H0V0z\" fill=\"none\"/>\n",
              "    <path d=\"M18.56 5.44l.94 2.06.94-2.06 2.06-.94-2.06-.94-.94-2.06-.94 2.06-2.06.94zm-11 1L8.5 8.5l.94-2.06 2.06-.94-2.06-.94L8.5 2.5l-.94 2.06-2.06.94zm10 10l.94 2.06.94-2.06 2.06-.94-2.06-.94-.94-2.06-.94 2.06-2.06.94z\"/><path d=\"M17.41 7.96l-1.37-1.37c-.4-.4-.92-.59-1.43-.59-.52 0-1.04.2-1.43.59L10.3 9.45l-7.72 7.72c-.78.78-.78 2.05 0 2.83L4 21.41c.39.39.9.59 1.41.59.51 0 1.02-.2 1.41-.59l7.78-7.78 2.81-2.81c.8-.78.8-2.07 0-2.86zM5.41 20L4 18.59l7.72-7.72 1.47 1.35L5.41 20z\"/>\n",
              "  </svg>\n",
              "      </button>\n",
              "      \n",
              "  <style>\n",
              "    .colab-df-container {\n",
              "      display:flex;\n",
              "      flex-wrap:wrap;\n",
              "      gap: 12px;\n",
              "    }\n",
              "\n",
              "    .colab-df-convert {\n",
              "      background-color: #E8F0FE;\n",
              "      border: none;\n",
              "      border-radius: 50%;\n",
              "      cursor: pointer;\n",
              "      display: none;\n",
              "      fill: #1967D2;\n",
              "      height: 32px;\n",
              "      padding: 0 0 0 0;\n",
              "      width: 32px;\n",
              "    }\n",
              "\n",
              "    .colab-df-convert:hover {\n",
              "      background-color: #E2EBFA;\n",
              "      box-shadow: 0px 1px 2px rgba(60, 64, 67, 0.3), 0px 1px 3px 1px rgba(60, 64, 67, 0.15);\n",
              "      fill: #174EA6;\n",
              "    }\n",
              "\n",
              "    [theme=dark] .colab-df-convert {\n",
              "      background-color: #3B4455;\n",
              "      fill: #D2E3FC;\n",
              "    }\n",
              "\n",
              "    [theme=dark] .colab-df-convert:hover {\n",
              "      background-color: #434B5C;\n",
              "      box-shadow: 0px 1px 3px 1px rgba(0, 0, 0, 0.15);\n",
              "      filter: drop-shadow(0px 1px 2px rgba(0, 0, 0, 0.3));\n",
              "      fill: #FFFFFF;\n",
              "    }\n",
              "  </style>\n",
              "\n",
              "      <script>\n",
              "        const buttonEl =\n",
              "          document.querySelector('#df-0c25d0e6-fe86-4451-935f-66b7198e60ff button.colab-df-convert');\n",
              "        buttonEl.style.display =\n",
              "          google.colab.kernel.accessAllowed ? 'block' : 'none';\n",
              "\n",
              "        async function convertToInteractive(key) {\n",
              "          const element = document.querySelector('#df-0c25d0e6-fe86-4451-935f-66b7198e60ff');\n",
              "          const dataTable =\n",
              "            await google.colab.kernel.invokeFunction('convertToInteractive',\n",
              "                                                     [key], {});\n",
              "          if (!dataTable) return;\n",
              "\n",
              "          const docLinkHtml = 'Like what you see? Visit the ' +\n",
              "            '<a target=\"_blank\" href=https://colab.research.google.com/notebooks/data_table.ipynb>data table notebook</a>'\n",
              "            + ' to learn more about interactive tables.';\n",
              "          element.innerHTML = '';\n",
              "          dataTable['output_type'] = 'display_data';\n",
              "          await google.colab.output.renderOutput(dataTable, element);\n",
              "          const docLink = document.createElement('div');\n",
              "          docLink.innerHTML = docLinkHtml;\n",
              "          element.appendChild(docLink);\n",
              "        }\n",
              "      </script>\n",
              "    </div>\n",
              "  </div>\n",
              "  "
            ]
          },
          "metadata": {}
        }
      ]
    },
    {
      "cell_type": "code",
      "source": [
        "titles = df_task_sf.Task.to_list()\n",
        "xmax = df_plot_dvs['dvs_exet'].sum()+10\n",
        "\n",
        "ax1x = start_time.tolist()\n",
        "ax1y = freq.tolist()\n",
        "ax1w = widths.tolist()\n",
        "ax1title = 'Task profile of non-DVS schedule (E=100%)'\n",
        "ax1_color = [(r,r,r) for r in np.linspace(0, 1, len(widths))]\n",
        "\n",
        "ax2x = df_plot_dvs['dvs_strat'].tolist()\n",
        "ax2y = df_plot_dvs['freq'].tolist()\n",
        "ax2w = df_plot_dvs['dvs_exet'].tolist()\n",
        "ax2title = 'Task profile of DVS schedule (E='+ str(round((total_e_cpu_dvs/total_e_cpu*100),2)) +'%)'\n",
        "ax2_color = [(r,r,r) for r in np.linspace(0, 1, len(widths))]"
      ],
      "metadata": {
        "id": "mT6AM4LPu2UR"
      },
      "execution_count": null,
      "outputs": []
    },
    {
      "cell_type": "code",
      "source": [
        "fig, [ax1,ax2] = plt.subplots(2, 1)\n",
        "fig.tight_layout(pad=5)\n",
        "for i in range(len(ax1x)):\n",
        "    ax1.bar(ax1x[i], ax1y[i], label=titles[i], align = 'edge', width = ax1w[i], color = ax1_color[i],edgecolor='k',zorder=3)\n",
        "ax1.set(xlabel = 'Time_s', ylabel = 'normalised_freq',xlim = (-2.5,xmax), ylim = (0,1.2), title = ax1title)\n",
        "for i in range(len(ax1x)):\n",
        "    ax2.bar(ax2x[i], ax2y[i], label=titles[i], align = 'edge', width = ax2w[i], color = ax2_color[i],edgecolor='k',zorder=3)\n",
        "ax2.set(xlabel = 'Time_s', ylabel = 'normalised_freq',xlim = (-2.5,xmax), ylim = (0,1.2), title = ax2title)\n",
        "ax1.legend()\n",
        "ax2.legend()\n",
        "ax1.grid(zorder=0)\n",
        "ax2.grid(zorder=0)"
      ],
      "metadata": {
        "colab": {
          "base_uri": "https://localhost:8080/",
          "height": 759
        },
        "id": "UnnJeOaOv3pE",
        "outputId": "96481888-dfe6-4afc-c0c5-d8ed11edfc26"
      },
      "execution_count": null,
      "outputs": [
        {
          "output_type": "display_data",
          "data": {
            "text/plain": [
              "<Figure size 2160x1260 with 2 Axes>"
            ],
            "image/png": "[encoded data removed]"
          },
          "metadata": {
            "needs_background": "light"
          }
        }
      ]
    },
    {
      "cell_type": "code",
      "source": [],
      "metadata": {
        "id": "DcHU5NCp-mcx"
      },
      "execution_count": null,
      "outputs": []
    }
  ]
}